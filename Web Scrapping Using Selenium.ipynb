{
 "cells": [
  {
   "cell_type": "markdown",
   "metadata": {},
   "source": [
    "# Q1: Write a python program to scrape data for “Data Analyst” Job position in “Bangalore” location. You have to scrape the job-title, job-location, company_name, experience_required. We have to scrape first 10 jobs data."
   ]
  },
  {
   "cell_type": "code",
   "execution_count": 1,
   "metadata": {},
   "outputs": [],
   "source": [
    "#lets now import all the required libraries\n",
    "import selenium\n",
    "import pandas as pd\n",
    "from selenium import webdriver"
   ]
  },
  {
   "cell_type": "code",
   "execution_count": 2,
   "metadata": {},
   "outputs": [],
   "source": [
    "#lets first connect to the web browser-\n",
    "\n",
    "driver = webdriver.Chrome(\"chromedriver.exe\")"
   ]
  },
  {
   "cell_type": "code",
   "execution_count": 3,
   "metadata": {},
   "outputs": [],
   "source": [
    "url = 'https://www.naukri.com/'\n",
    "driver.get(url)"
   ]
  },
  {
   "cell_type": "code",
   "execution_count": 4,
   "metadata": {},
   "outputs": [
    {
     "data": {
      "text/plain": [
       "<selenium.webdriver.remote.webelement.WebElement (session=\"dca9152ab1668c363d172421875416dd\", element=\"ee51e84e-84a1-4fff-aa0c-86b8a1b35e7b\")>"
      ]
     },
     "execution_count": 4,
     "metadata": {},
     "output_type": "execute_result"
    }
   ],
   "source": [
    "#finding element for job search for data analyst using id function.\n",
    "\n",
    "search_job = driver.find_element_by_id('qsb-keyword-sugg')\n",
    "search_job"
   ]
  },
  {
   "cell_type": "code",
   "execution_count": 5,
   "metadata": {},
   "outputs": [],
   "source": [
    "search_job.send_keys(\"Data Analyst\")"
   ]
  },
  {
   "cell_type": "code",
   "execution_count": 6,
   "metadata": {},
   "outputs": [],
   "source": [
    "#finding element for job location for banglore location.\n",
    "\n",
    "search_loc = driver.find_element_by_id(\"qsb-location-sugg\")\n",
    "search_loc.send_keys(\"Bangalore\")"
   ]
  },
  {
   "cell_type": "code",
   "execution_count": 7,
   "metadata": {},
   "outputs": [],
   "source": [
    "search_btn = driver.find_element_by_xpath(\"//button[@class='btn']\")\n",
    "search_btn.click()"
   ]
  },
  {
   "cell_type": "markdown",
   "metadata": {},
   "source": [
    "So, now lets create 4 empty lists. In these lists the data will be sorted while scrapping.\n",
    "We have created 4 empty lists for 4 features which we hv to extract\n",
    "\n",
    "1- job titles\n",
    "\n",
    "2- company names\n",
    "\n",
    "3- location list\n",
    "\n",
    "4- experience list\n"
   ]
  },
  {
   "cell_type": "code",
   "execution_count": 8,
   "metadata": {},
   "outputs": [
    {
     "data": {
      "text/plain": [
       "[<selenium.webdriver.remote.webelement.WebElement (session=\"dca9152ab1668c363d172421875416dd\", element=\"96bc19e6-fae3-457f-bbdb-d0b9f14d35e2\")>,\n",
       " <selenium.webdriver.remote.webelement.WebElement (session=\"dca9152ab1668c363d172421875416dd\", element=\"4c57b4d6-133e-47e2-b6b8-32a4dd4ea019\")>,\n",
       " <selenium.webdriver.remote.webelement.WebElement (session=\"dca9152ab1668c363d172421875416dd\", element=\"531fc74c-53c5-424d-b2ea-306adf305c00\")>,\n",
       " <selenium.webdriver.remote.webelement.WebElement (session=\"dca9152ab1668c363d172421875416dd\", element=\"b65083cb-aecb-408d-ba2f-310358a130e8\")>,\n",
       " <selenium.webdriver.remote.webelement.WebElement (session=\"dca9152ab1668c363d172421875416dd\", element=\"c4a9641c-068f-409c-a1c7-f655831f9a78\")>,\n",
       " <selenium.webdriver.remote.webelement.WebElement (session=\"dca9152ab1668c363d172421875416dd\", element=\"462d9fcf-88d2-44fa-b40f-007c95e94877\")>,\n",
       " <selenium.webdriver.remote.webelement.WebElement (session=\"dca9152ab1668c363d172421875416dd\", element=\"53f12d33-4c20-41c7-be1e-7cf3154d3621\")>,\n",
       " <selenium.webdriver.remote.webelement.WebElement (session=\"dca9152ab1668c363d172421875416dd\", element=\"8b4716d9-3b2e-4624-b509-4b403659add2\")>,\n",
       " <selenium.webdriver.remote.webelement.WebElement (session=\"dca9152ab1668c363d172421875416dd\", element=\"b2ace3f0-3752-47f5-b3c4-a227ba27866b\")>,\n",
       " <selenium.webdriver.remote.webelement.WebElement (session=\"dca9152ab1668c363d172421875416dd\", element=\"facb6582-295d-4693-acbf-b3d24abc7790\")>,\n",
       " <selenium.webdriver.remote.webelement.WebElement (session=\"dca9152ab1668c363d172421875416dd\", element=\"856157ea-8f2a-4a66-8174-cbfd547abcb5\")>,\n",
       " <selenium.webdriver.remote.webelement.WebElement (session=\"dca9152ab1668c363d172421875416dd\", element=\"3b2b012a-7261-4555-8790-9ddaa1ef00d8\")>,\n",
       " <selenium.webdriver.remote.webelement.WebElement (session=\"dca9152ab1668c363d172421875416dd\", element=\"5a6126e9-c343-409e-9451-0038eeb8be28\")>,\n",
       " <selenium.webdriver.remote.webelement.WebElement (session=\"dca9152ab1668c363d172421875416dd\", element=\"6cc115ed-a557-4cc4-abc3-20dd5ceb4cf2\")>,\n",
       " <selenium.webdriver.remote.webelement.WebElement (session=\"dca9152ab1668c363d172421875416dd\", element=\"2b7b811d-5ebf-4034-af25-94006111250c\")>,\n",
       " <selenium.webdriver.remote.webelement.WebElement (session=\"dca9152ab1668c363d172421875416dd\", element=\"f7316e60-3afc-4115-b6fe-a5f6350baec8\")>,\n",
       " <selenium.webdriver.remote.webelement.WebElement (session=\"dca9152ab1668c363d172421875416dd\", element=\"ea73441c-19ff-486c-b74a-0b65d45bb786\")>,\n",
       " <selenium.webdriver.remote.webelement.WebElement (session=\"dca9152ab1668c363d172421875416dd\", element=\"e1b10f39-8a58-4f17-8439-b00928a2c375\")>,\n",
       " <selenium.webdriver.remote.webelement.WebElement (session=\"dca9152ab1668c363d172421875416dd\", element=\"4bf8c5cd-a8d1-470d-ac1a-d06a108b28a1\")>,\n",
       " <selenium.webdriver.remote.webelement.WebElement (session=\"dca9152ab1668c363d172421875416dd\", element=\"ba16d272-959b-46fc-b1ac-76cc1a6ec5fd\")>]"
      ]
     },
     "execution_count": 8,
     "metadata": {},
     "output_type": "execute_result"
    }
   ],
   "source": [
    "#extracting all the tags havng job titles\n",
    "\n",
    "titles_tags = driver.find_elements_by_xpath(\"//a[@class='title fw500 ellipsis']\")\n",
    "titles_tags"
   ]
  },
  {
   "cell_type": "code",
   "execution_count": 9,
   "metadata": {},
   "outputs": [
    {
     "data": {
      "text/plain": [
       "['Data Scientist / Data Analyst -Business Analyst',\n",
       " 'Hiring Data Analysts For E commerce Platform || WFH',\n",
       " 'Data Analyst',\n",
       " 'Hiring For Data Analyst/ MIS Reporting Analyst - Bangalore',\n",
       " 'DA - Urgent Opening For Data Analyst BFSI Domain - Pan India',\n",
       " 'Data Analyst - Informatica MDM',\n",
       " 'Assistant Vice President - MIS & Reporting ( Business Data Analyst)',\n",
       " 'Data Analyst',\n",
       " 'Data Analyst',\n",
       " 'Data Analyst',\n",
       " 'Data Analyst',\n",
       " 'Data Analyst',\n",
       " 'Data Analyst',\n",
       " 'LTI Hiring Business Data Analyst - Risk Reporting',\n",
       " 'Senior/Regular Business Analyst / Data Analyst',\n",
       " 'Cybersecurity Data Analyst',\n",
       " 'Data Analyst',\n",
       " 'Business Data Analyst - MIS & Reporting',\n",
       " 'Data Analyst / Business Analyst -',\n",
       " 'Business Data Analyst']"
      ]
     },
     "execution_count": 9,
     "metadata": {},
     "output_type": "execute_result"
    }
   ],
   "source": [
    "job_titles=[]\n",
    "for i in titles_tags:\n",
    "    job_titles.append(i.text)\n",
    "job_titles"
   ]
  },
  {
   "cell_type": "code",
   "execution_count": 10,
   "metadata": {},
   "outputs": [
    {
     "data": {
      "text/plain": [
       "[<selenium.webdriver.remote.webelement.WebElement (session=\"dca9152ab1668c363d172421875416dd\", element=\"cec0ed2e-2155-44b9-b4c1-27e6f8d7017f\")>,\n",
       " <selenium.webdriver.remote.webelement.WebElement (session=\"dca9152ab1668c363d172421875416dd\", element=\"6c615b44-7890-4aea-b5a6-90594528fe19\")>,\n",
       " <selenium.webdriver.remote.webelement.WebElement (session=\"dca9152ab1668c363d172421875416dd\", element=\"9556c7a2-eeeb-4c60-a0ff-c8ea3d2b0731\")>,\n",
       " <selenium.webdriver.remote.webelement.WebElement (session=\"dca9152ab1668c363d172421875416dd\", element=\"c2ca1157-f404-4bd7-8e1c-37a57752c354\")>,\n",
       " <selenium.webdriver.remote.webelement.WebElement (session=\"dca9152ab1668c363d172421875416dd\", element=\"c4c8a3f3-ced5-4a0b-b029-89c640e08b3e\")>,\n",
       " <selenium.webdriver.remote.webelement.WebElement (session=\"dca9152ab1668c363d172421875416dd\", element=\"74020275-b2df-45c7-89f7-d5ad43d4bfc8\")>,\n",
       " <selenium.webdriver.remote.webelement.WebElement (session=\"dca9152ab1668c363d172421875416dd\", element=\"41d482c8-0c65-4a2a-8dcd-286385ef4592\")>,\n",
       " <selenium.webdriver.remote.webelement.WebElement (session=\"dca9152ab1668c363d172421875416dd\", element=\"cbf06e0a-7017-4481-9fcd-066ac6a9790c\")>,\n",
       " <selenium.webdriver.remote.webelement.WebElement (session=\"dca9152ab1668c363d172421875416dd\", element=\"549be8da-7648-4afd-9eb1-ce336aee9092\")>,\n",
       " <selenium.webdriver.remote.webelement.WebElement (session=\"dca9152ab1668c363d172421875416dd\", element=\"dc6399f4-8994-4cfa-b913-4749e0cc8ed3\")>,\n",
       " <selenium.webdriver.remote.webelement.WebElement (session=\"dca9152ab1668c363d172421875416dd\", element=\"d7103991-d4a3-4a82-934c-9b625c4ffca9\")>,\n",
       " <selenium.webdriver.remote.webelement.WebElement (session=\"dca9152ab1668c363d172421875416dd\", element=\"6f985e3e-a577-4308-9dd5-82f252769d6d\")>,\n",
       " <selenium.webdriver.remote.webelement.WebElement (session=\"dca9152ab1668c363d172421875416dd\", element=\"b07af4ba-9063-4817-a860-e0a981174e9a\")>,\n",
       " <selenium.webdriver.remote.webelement.WebElement (session=\"dca9152ab1668c363d172421875416dd\", element=\"30b40094-c0bf-413c-a52f-a06ac899db0e\")>,\n",
       " <selenium.webdriver.remote.webelement.WebElement (session=\"dca9152ab1668c363d172421875416dd\", element=\"175b819b-031f-46d3-88d9-658c74c2cea6\")>,\n",
       " <selenium.webdriver.remote.webelement.WebElement (session=\"dca9152ab1668c363d172421875416dd\", element=\"1ec0aeac-cf69-4e00-9a74-3f26bf49f958\")>,\n",
       " <selenium.webdriver.remote.webelement.WebElement (session=\"dca9152ab1668c363d172421875416dd\", element=\"5794f5e0-b3c3-4064-8d78-bb4aeb34166d\")>,\n",
       " <selenium.webdriver.remote.webelement.WebElement (session=\"dca9152ab1668c363d172421875416dd\", element=\"9dffce7c-cd41-4345-bb1f-9440b1fffd6d\")>,\n",
       " <selenium.webdriver.remote.webelement.WebElement (session=\"dca9152ab1668c363d172421875416dd\", element=\"893e1829-7631-4011-bd7e-424ea2c5380e\")>,\n",
       " <selenium.webdriver.remote.webelement.WebElement (session=\"dca9152ab1668c363d172421875416dd\", element=\"632c2082-2bd6-493d-8181-98f4507f3527\")>]"
      ]
     },
     "execution_count": 10,
     "metadata": {},
     "output_type": "execute_result"
    }
   ],
   "source": [
    "#so lets extract all the tags having the company names-\n",
    "\n",
    "companies_tags=driver.find_elements_by_xpath(\"//a[@class='subTitle ellipsis fleft']\")\n",
    "companies_tags"
   ]
  },
  {
   "cell_type": "code",
   "execution_count": 11,
   "metadata": {},
   "outputs": [
    {
     "data": {
      "text/plain": [
       "['Inflexion Analytix Private Limited',\n",
       " 'Allegis Services India Pvt. Ltd.',\n",
       " 'Applied Materials',\n",
       " 'PHARMACEUTICAL RESEARCH ASSOCIATES INDIA Pvt Ltd',\n",
       " 'Tata Consultancy Services Ltd.',\n",
       " 'Shell India Markets Private Limited',\n",
       " 'INTERTRUSTVITEOS CORPORATE AND FUND SERVICES PVT. LTD.',\n",
       " 'Myntra Designs Pvt. Ltd.',\n",
       " 'Myntra Designs Pvt. Ltd.',\n",
       " 'Myntra Designs Pvt. Ltd.',\n",
       " 'Myntra Designs Pvt. Ltd.',\n",
       " 'Myntra Designs Pvt. Ltd.',\n",
       " 'SA Tech Software (I) Pvt. Ltd.',\n",
       " 'Larsen & Toubro Infotech Limited',\n",
       " 'Luxoft',\n",
       " 'Huawei Technologies India Pvt Ltd',\n",
       " 'IBM India Pvt. Limited',\n",
       " 'INTERTRUST GROUP',\n",
       " 'LatentView Analytics Private Limited',\n",
       " 'ALSTOM India Limited']"
      ]
     },
     "execution_count": 11,
     "metadata": {},
     "output_type": "execute_result"
    }
   ],
   "source": [
    "comp_names=[]\n",
    "for i in companies_tags:\n",
    "    comp_names.append(i.text)\n",
    "comp_names"
   ]
  },
  {
   "cell_type": "code",
   "execution_count": 12,
   "metadata": {},
   "outputs": [
    {
     "data": {
      "text/plain": [
       "[<selenium.webdriver.remote.webelement.WebElement (session=\"dca9152ab1668c363d172421875416dd\", element=\"fefc781b-780f-4002-9fee-69969a39c06f\")>,\n",
       " <selenium.webdriver.remote.webelement.WebElement (session=\"dca9152ab1668c363d172421875416dd\", element=\"e396ff0d-fe9b-4b25-8516-e837a42f71b9\")>,\n",
       " <selenium.webdriver.remote.webelement.WebElement (session=\"dca9152ab1668c363d172421875416dd\", element=\"5f591f48-c292-40da-8564-35d0dee25a46\")>,\n",
       " <selenium.webdriver.remote.webelement.WebElement (session=\"dca9152ab1668c363d172421875416dd\", element=\"f5e8a77a-96b3-40f6-a6a6-06b7179af647\")>,\n",
       " <selenium.webdriver.remote.webelement.WebElement (session=\"dca9152ab1668c363d172421875416dd\", element=\"323f9c77-9633-47ea-9e48-ae38e60afff6\")>,\n",
       " <selenium.webdriver.remote.webelement.WebElement (session=\"dca9152ab1668c363d172421875416dd\", element=\"9648eeaa-f8f6-4f9b-98f2-961f899298ea\")>,\n",
       " <selenium.webdriver.remote.webelement.WebElement (session=\"dca9152ab1668c363d172421875416dd\", element=\"abd0b248-4773-4ae7-96a1-3b15326ab030\")>,\n",
       " <selenium.webdriver.remote.webelement.WebElement (session=\"dca9152ab1668c363d172421875416dd\", element=\"5ff5a2bc-15d5-4439-bb29-fe2a9095433f\")>,\n",
       " <selenium.webdriver.remote.webelement.WebElement (session=\"dca9152ab1668c363d172421875416dd\", element=\"e102608b-988b-4b7a-88c3-f0a7f5d557cf\")>,\n",
       " <selenium.webdriver.remote.webelement.WebElement (session=\"dca9152ab1668c363d172421875416dd\", element=\"bbab40e9-f893-47e1-9d1e-e2837e81d8a9\")>,\n",
       " <selenium.webdriver.remote.webelement.WebElement (session=\"dca9152ab1668c363d172421875416dd\", element=\"f06c0484-00d8-4dc5-9076-0bad7a2afae3\")>,\n",
       " <selenium.webdriver.remote.webelement.WebElement (session=\"dca9152ab1668c363d172421875416dd\", element=\"67d2d40e-e610-48bf-86b9-2f3d42b770a9\")>,\n",
       " <selenium.webdriver.remote.webelement.WebElement (session=\"dca9152ab1668c363d172421875416dd\", element=\"9ab65476-fe4b-4aa5-96ae-df51fb6542fa\")>,\n",
       " <selenium.webdriver.remote.webelement.WebElement (session=\"dca9152ab1668c363d172421875416dd\", element=\"8292ba89-b13d-4bfa-9de2-3c0fc9c90904\")>,\n",
       " <selenium.webdriver.remote.webelement.WebElement (session=\"dca9152ab1668c363d172421875416dd\", element=\"c1064ce9-043e-4d8d-ad22-2f82df7b6a17\")>,\n",
       " <selenium.webdriver.remote.webelement.WebElement (session=\"dca9152ab1668c363d172421875416dd\", element=\"19fb0b57-ce85-4d6f-855e-df892a394a21\")>,\n",
       " <selenium.webdriver.remote.webelement.WebElement (session=\"dca9152ab1668c363d172421875416dd\", element=\"06f41c48-377c-4beb-9e44-7b470848586d\")>,\n",
       " <selenium.webdriver.remote.webelement.WebElement (session=\"dca9152ab1668c363d172421875416dd\", element=\"b90c2a7b-e149-42a0-89e9-462ab74acefc\")>,\n",
       " <selenium.webdriver.remote.webelement.WebElement (session=\"dca9152ab1668c363d172421875416dd\", element=\"8d43c2c0-c063-441e-b1a8-e7dc8f50a628\")>,\n",
       " <selenium.webdriver.remote.webelement.WebElement (session=\"dca9152ab1668c363d172421875416dd\", element=\"24f8367a-02c0-40b3-9ced-af20e0ed03e8\")>]"
      ]
     },
     "execution_count": 12,
     "metadata": {},
     "output_type": "execute_result"
    }
   ],
   "source": [
    "#lets extract the experience required\n",
    "\n",
    "exp_tags=driver.find_elements_by_xpath(\"//li[@class='fleft grey-text br2 placeHolderLi experience']//span\")\n",
    "exp_tags"
   ]
  },
  {
   "cell_type": "code",
   "execution_count": 13,
   "metadata": {},
   "outputs": [
    {
     "data": {
      "text/plain": [
       "['0-3 Yrs',\n",
       " '0-5 Yrs',\n",
       " '7-10 Yrs',\n",
       " '2-4 Yrs',\n",
       " '4-9 Yrs',\n",
       " '6-9 Yrs',\n",
       " '12-18 Yrs',\n",
       " '3-6 Yrs',\n",
       " '3-6 Yrs',\n",
       " '4-9 Yrs',\n",
       " '4-8 Yrs',\n",
       " '3-6 Yrs',\n",
       " '1-3 Yrs',\n",
       " '7-10 Yrs',\n",
       " '3-6 Yrs',\n",
       " '5-8 Yrs',\n",
       " '5-10 Yrs',\n",
       " '3-8 Yrs',\n",
       " '1-5 Yrs',\n",
       " '5-10 Yrs']"
      ]
     },
     "execution_count": 13,
     "metadata": {},
     "output_type": "execute_result"
    }
   ],
   "source": [
    "exp_yr=[]\n",
    "for i in exp_tags:\n",
    "    exp_yr.append(i.text)\n",
    "exp_yr    "
   ]
  },
  {
   "cell_type": "code",
   "execution_count": 14,
   "metadata": {},
   "outputs": [
    {
     "data": {
      "text/plain": [
       "[<selenium.webdriver.remote.webelement.WebElement (session=\"dca9152ab1668c363d172421875416dd\", element=\"d1330cf2-96ce-4f55-b699-89ce85aa4d2e\")>,\n",
       " <selenium.webdriver.remote.webelement.WebElement (session=\"dca9152ab1668c363d172421875416dd\", element=\"c178389d-f303-4561-9a67-456fcbd37c1c\")>,\n",
       " <selenium.webdriver.remote.webelement.WebElement (session=\"dca9152ab1668c363d172421875416dd\", element=\"f25ed024-90bb-4844-babf-1aa8e67cc71b\")>,\n",
       " <selenium.webdriver.remote.webelement.WebElement (session=\"dca9152ab1668c363d172421875416dd\", element=\"2d2b882d-6ebd-4fcc-807b-add76ad1ed41\")>,\n",
       " <selenium.webdriver.remote.webelement.WebElement (session=\"dca9152ab1668c363d172421875416dd\", element=\"c6297ce4-cdb3-4eb2-a2fa-b41c75affd35\")>,\n",
       " <selenium.webdriver.remote.webelement.WebElement (session=\"dca9152ab1668c363d172421875416dd\", element=\"14b0b080-3ebd-441b-b3ed-cc3d48a88e6d\")>,\n",
       " <selenium.webdriver.remote.webelement.WebElement (session=\"dca9152ab1668c363d172421875416dd\", element=\"a4661506-9bf4-431a-a61a-6e1d397ee044\")>,\n",
       " <selenium.webdriver.remote.webelement.WebElement (session=\"dca9152ab1668c363d172421875416dd\", element=\"5672a069-f604-435e-a6f9-83330bc19c8a\")>,\n",
       " <selenium.webdriver.remote.webelement.WebElement (session=\"dca9152ab1668c363d172421875416dd\", element=\"09313f3a-23d0-441d-ae71-3397f2d7c6d0\")>,\n",
       " <selenium.webdriver.remote.webelement.WebElement (session=\"dca9152ab1668c363d172421875416dd\", element=\"172fd53d-80b5-46cf-a8f1-ce7e08e94ee7\")>,\n",
       " <selenium.webdriver.remote.webelement.WebElement (session=\"dca9152ab1668c363d172421875416dd\", element=\"a780ed0f-2ac1-4168-aa28-8c127fc668fc\")>,\n",
       " <selenium.webdriver.remote.webelement.WebElement (session=\"dca9152ab1668c363d172421875416dd\", element=\"d2b460ca-3be2-4b19-9b7e-7bd4370f3282\")>,\n",
       " <selenium.webdriver.remote.webelement.WebElement (session=\"dca9152ab1668c363d172421875416dd\", element=\"5c58e172-ca64-40e1-8dff-b88d4444f3c2\")>,\n",
       " <selenium.webdriver.remote.webelement.WebElement (session=\"dca9152ab1668c363d172421875416dd\", element=\"84aaf7e7-af37-434b-8fd9-638be7230cd7\")>,\n",
       " <selenium.webdriver.remote.webelement.WebElement (session=\"dca9152ab1668c363d172421875416dd\", element=\"0a7a7b58-571b-4036-b846-2b2ef8af14fd\")>,\n",
       " <selenium.webdriver.remote.webelement.WebElement (session=\"dca9152ab1668c363d172421875416dd\", element=\"82ee919d-b3fa-4c03-9eab-44b9491652e2\")>,\n",
       " <selenium.webdriver.remote.webelement.WebElement (session=\"dca9152ab1668c363d172421875416dd\", element=\"65a037ee-2629-48bb-8bdc-6d37ee9af0e2\")>,\n",
       " <selenium.webdriver.remote.webelement.WebElement (session=\"dca9152ab1668c363d172421875416dd\", element=\"520b03a4-534e-49c5-b2d3-e313b1417594\")>,\n",
       " <selenium.webdriver.remote.webelement.WebElement (session=\"dca9152ab1668c363d172421875416dd\", element=\"b637f618-241a-4711-abd2-706c4d64828f\")>,\n",
       " <selenium.webdriver.remote.webelement.WebElement (session=\"dca9152ab1668c363d172421875416dd\", element=\"42f5cf82-2d81-4903-b340-04a06be7840a\")>]"
      ]
     },
     "execution_count": 14,
     "metadata": {},
     "output_type": "execute_result"
    }
   ],
   "source": [
    "#lets extract the location field\n",
    "\n",
    "loc_tags = driver.find_elements_by_xpath(\"//li[@class='fleft grey-text br2 placeHolderLi location']//span\")\n",
    "loc_tags"
   ]
  },
  {
   "cell_type": "code",
   "execution_count": 15,
   "metadata": {},
   "outputs": [
    {
     "data": {
      "text/plain": [
       "['Mumbai, Hyderabad/Secunderabad, Pune, Gurgaon/Gurugram, Chennai, Bangalore/Bengaluru',\n",
       " 'Bangalore/Bengaluru',\n",
       " 'Bangalore/Bengaluru',\n",
       " 'Bangalore/Bengaluru',\n",
       " 'Kolkata, Hyderabad/Secunderabad, Pune, Ahmedabad, Chennai, Bangalore/Bengaluru, Delhi / NCR, Mumbai (All Areas)',\n",
       " 'Bangalore/Bengaluru',\n",
       " 'Mumbai, Bangalore/Bengaluru',\n",
       " 'Bangalore/Bengaluru',\n",
       " 'Bangalore/Bengaluru',\n",
       " 'Bangalore/Bengaluru',\n",
       " 'Bangalore/Bengaluru',\n",
       " 'Bangalore/Bengaluru',\n",
       " 'Kolkata, Pune, Chennai, Bangalore/Bengaluru, Delhi / NCR, Mumbai (All Areas)',\n",
       " 'Pune, Chennai, Bangalore/Bengaluru',\n",
       " 'Bangalore/Bengaluru',\n",
       " 'Bangalore/Bengaluru',\n",
       " 'Bangalore/Bengaluru',\n",
       " 'Mumbai, Bangalore/Bengaluru',\n",
       " 'Chennai, Bangalore/Bengaluru',\n",
       " 'Bangalore/Bengaluru']"
      ]
     },
     "execution_count": 15,
     "metadata": {},
     "output_type": "execute_result"
    }
   ],
   "source": [
    "loc_name=[]\n",
    "for i in loc_tags:\n",
    "    loc_name.append(i.text)\n",
    "loc_name"
   ]
  },
  {
   "cell_type": "code",
   "execution_count": 16,
   "metadata": {},
   "outputs": [
    {
     "name": "stdout",
     "output_type": "stream",
     "text": [
      "20 20 20 20\n"
     ]
    }
   ],
   "source": [
    "#length of each tags\n",
    "print(len(job_titles),len(comp_names),len(exp_yr),len(loc_name))"
   ]
  },
  {
   "cell_type": "code",
   "execution_count": 17,
   "metadata": {},
   "outputs": [],
   "source": [
    "#Creating dataframe for top 10 jobs searches.\n",
    "import pandas as pd\n",
    "jobs=pd.DataFrame({})\n",
    "jobs['TITLE']=job_titles[:10]\n",
    "jobs['LOCATION']=loc_name[:10]\n",
    "jobs['COMPANY']=comp_names[:10]\n",
    "jobs['EXPERIENCE']=exp_yr[:10]"
   ]
  },
  {
   "cell_type": "code",
   "execution_count": 18,
   "metadata": {},
   "outputs": [
    {
     "data": {
      "text/html": [
       "<div>\n",
       "<style scoped>\n",
       "    .dataframe tbody tr th:only-of-type {\n",
       "        vertical-align: middle;\n",
       "    }\n",
       "\n",
       "    .dataframe tbody tr th {\n",
       "        vertical-align: top;\n",
       "    }\n",
       "\n",
       "    .dataframe thead th {\n",
       "        text-align: right;\n",
       "    }\n",
       "</style>\n",
       "<table border=\"1\" class=\"dataframe\">\n",
       "  <thead>\n",
       "    <tr style=\"text-align: right;\">\n",
       "      <th></th>\n",
       "      <th>TITLE</th>\n",
       "      <th>LOCATION</th>\n",
       "      <th>COMPANY</th>\n",
       "      <th>EXPERIENCE</th>\n",
       "    </tr>\n",
       "  </thead>\n",
       "  <tbody>\n",
       "    <tr>\n",
       "      <th>0</th>\n",
       "      <td>Data Scientist / Data Analyst -Business Analyst</td>\n",
       "      <td>Mumbai, Hyderabad/Secunderabad, Pune, Gurgaon/...</td>\n",
       "      <td>Inflexion Analytix Private Limited</td>\n",
       "      <td>0-3 Yrs</td>\n",
       "    </tr>\n",
       "    <tr>\n",
       "      <th>1</th>\n",
       "      <td>Hiring Data Analysts For E commerce Platform |...</td>\n",
       "      <td>Bangalore/Bengaluru</td>\n",
       "      <td>Allegis Services India Pvt. Ltd.</td>\n",
       "      <td>0-5 Yrs</td>\n",
       "    </tr>\n",
       "    <tr>\n",
       "      <th>2</th>\n",
       "      <td>Data Analyst</td>\n",
       "      <td>Bangalore/Bengaluru</td>\n",
       "      <td>Applied Materials</td>\n",
       "      <td>7-10 Yrs</td>\n",
       "    </tr>\n",
       "    <tr>\n",
       "      <th>3</th>\n",
       "      <td>Hiring For Data Analyst/ MIS Reporting Analyst...</td>\n",
       "      <td>Bangalore/Bengaluru</td>\n",
       "      <td>PHARMACEUTICAL RESEARCH ASSOCIATES INDIA Pvt Ltd</td>\n",
       "      <td>2-4 Yrs</td>\n",
       "    </tr>\n",
       "    <tr>\n",
       "      <th>4</th>\n",
       "      <td>DA - Urgent Opening For Data Analyst BFSI Doma...</td>\n",
       "      <td>Kolkata, Hyderabad/Secunderabad, Pune, Ahmedab...</td>\n",
       "      <td>Tata Consultancy Services Ltd.</td>\n",
       "      <td>4-9 Yrs</td>\n",
       "    </tr>\n",
       "    <tr>\n",
       "      <th>5</th>\n",
       "      <td>Data Analyst - Informatica MDM</td>\n",
       "      <td>Bangalore/Bengaluru</td>\n",
       "      <td>Shell India Markets Private Limited</td>\n",
       "      <td>6-9 Yrs</td>\n",
       "    </tr>\n",
       "    <tr>\n",
       "      <th>6</th>\n",
       "      <td>Assistant Vice President - MIS &amp; Reporting ( B...</td>\n",
       "      <td>Mumbai, Bangalore/Bengaluru</td>\n",
       "      <td>INTERTRUSTVITEOS CORPORATE AND FUND SERVICES P...</td>\n",
       "      <td>12-18 Yrs</td>\n",
       "    </tr>\n",
       "    <tr>\n",
       "      <th>7</th>\n",
       "      <td>Data Analyst</td>\n",
       "      <td>Bangalore/Bengaluru</td>\n",
       "      <td>Myntra Designs Pvt. Ltd.</td>\n",
       "      <td>3-6 Yrs</td>\n",
       "    </tr>\n",
       "    <tr>\n",
       "      <th>8</th>\n",
       "      <td>Data Analyst</td>\n",
       "      <td>Bangalore/Bengaluru</td>\n",
       "      <td>Myntra Designs Pvt. Ltd.</td>\n",
       "      <td>3-6 Yrs</td>\n",
       "    </tr>\n",
       "    <tr>\n",
       "      <th>9</th>\n",
       "      <td>Data Analyst</td>\n",
       "      <td>Bangalore/Bengaluru</td>\n",
       "      <td>Myntra Designs Pvt. Ltd.</td>\n",
       "      <td>4-9 Yrs</td>\n",
       "    </tr>\n",
       "  </tbody>\n",
       "</table>\n",
       "</div>"
      ],
      "text/plain": [
       "                                               TITLE  \\\n",
       "0    Data Scientist / Data Analyst -Business Analyst   \n",
       "1  Hiring Data Analysts For E commerce Platform |...   \n",
       "2                                       Data Analyst   \n",
       "3  Hiring For Data Analyst/ MIS Reporting Analyst...   \n",
       "4  DA - Urgent Opening For Data Analyst BFSI Doma...   \n",
       "5                     Data Analyst - Informatica MDM   \n",
       "6  Assistant Vice President - MIS & Reporting ( B...   \n",
       "7                                       Data Analyst   \n",
       "8                                       Data Analyst   \n",
       "9                                       Data Analyst   \n",
       "\n",
       "                                            LOCATION  \\\n",
       "0  Mumbai, Hyderabad/Secunderabad, Pune, Gurgaon/...   \n",
       "1                                Bangalore/Bengaluru   \n",
       "2                                Bangalore/Bengaluru   \n",
       "3                                Bangalore/Bengaluru   \n",
       "4  Kolkata, Hyderabad/Secunderabad, Pune, Ahmedab...   \n",
       "5                                Bangalore/Bengaluru   \n",
       "6                        Mumbai, Bangalore/Bengaluru   \n",
       "7                                Bangalore/Bengaluru   \n",
       "8                                Bangalore/Bengaluru   \n",
       "9                                Bangalore/Bengaluru   \n",
       "\n",
       "                                             COMPANY EXPERIENCE  \n",
       "0                 Inflexion Analytix Private Limited    0-3 Yrs  \n",
       "1                   Allegis Services India Pvt. Ltd.    0-5 Yrs  \n",
       "2                                  Applied Materials   7-10 Yrs  \n",
       "3   PHARMACEUTICAL RESEARCH ASSOCIATES INDIA Pvt Ltd    2-4 Yrs  \n",
       "4                     Tata Consultancy Services Ltd.    4-9 Yrs  \n",
       "5                Shell India Markets Private Limited    6-9 Yrs  \n",
       "6  INTERTRUSTVITEOS CORPORATE AND FUND SERVICES P...  12-18 Yrs  \n",
       "7                           Myntra Designs Pvt. Ltd.    3-6 Yrs  \n",
       "8                           Myntra Designs Pvt. Ltd.    3-6 Yrs  \n",
       "9                           Myntra Designs Pvt. Ltd.    4-9 Yrs  "
      ]
     },
     "execution_count": 18,
     "metadata": {},
     "output_type": "execute_result"
    }
   ],
   "source": [
    "jobs"
   ]
  },
  {
   "cell_type": "markdown",
   "metadata": {},
   "source": [
    "# Q2: Write a python program to scrape data for “Data Scientist” Job position in “Bangalore” location. You have to scrape the job-title, job-location, company_name, full job-description.We have to scrape first 10 jobs data."
   ]
  },
  {
   "cell_type": "code",
   "execution_count": 19,
   "metadata": {},
   "outputs": [],
   "source": [
    "driver = webdriver.Chrome('chromedriver.exe')\n",
    "url=(\"https://www.naukri.com/\")\n",
    "driver.get(url)"
   ]
  },
  {
   "cell_type": "code",
   "execution_count": 20,
   "metadata": {},
   "outputs": [],
   "source": [
    "#finding element for job search for data scientist using id function.\n",
    "\n",
    "search_job = driver.find_element_by_id('qsb-keyword-sugg')\n",
    "search_job\n",
    "search_job.send_keys(\"Data Scientist\")"
   ]
  },
  {
   "cell_type": "code",
   "execution_count": 21,
   "metadata": {},
   "outputs": [],
   "source": [
    "#finding element for job location for banglore location.\n",
    "\n",
    "search_loc = driver.find_element_by_id(\"qsb-location-sugg\")\n",
    "search_loc.send_keys(\"Bangalore\")"
   ]
  },
  {
   "cell_type": "code",
   "execution_count": 22,
   "metadata": {},
   "outputs": [],
   "source": [
    "search_btn = driver.find_element_by_xpath(\"//button[@class='btn']\")\n",
    "search_btn.click()"
   ]
  },
  {
   "cell_type": "markdown",
   "metadata": {},
   "source": [
    "So, now lets create 4 empty lists. In these lists the data will be sorted while scrapping.\n",
    "We have created 4 empty lists for 4 features which we hv to extract\n",
    "\n",
    "1- job titles\n",
    "\n",
    "2- job location\n",
    "\n",
    "3- company name\n",
    "\n",
    "4- job full description\n"
   ]
  },
  {
   "cell_type": "code",
   "execution_count": 23,
   "metadata": {},
   "outputs": [],
   "source": [
    "#extracting all the tags havng job titles\n",
    "\n",
    "titles_tags = driver.find_elements_by_xpath(\"//a[@class='title fw500 ellipsis']\")"
   ]
  },
  {
   "cell_type": "code",
   "execution_count": 24,
   "metadata": {},
   "outputs": [
    {
     "data": {
      "text/plain": [
       "['Data Scientist / Data Analyst -Business Analyst',\n",
       " 'Senior Data Scientist, Modeling',\n",
       " 'Data Scientist - IBM Garage',\n",
       " 'Data Scientist',\n",
       " 'Senior Data Scientist - Credit risk',\n",
       " 'Big Data - Data Scientist',\n",
       " 'SDE Lead Data Scientist-L3',\n",
       " 'Computational Design Lead Data Scientist-L3',\n",
       " 'Data Scientist',\n",
       " 'Lead Data Scientist',\n",
       " 'Senior Data Scientist - Chatbot & NLP',\n",
       " 'Senior Data Scientist - Chatbot & NLP',\n",
       " 'Hiring For Lead data Scientist For Bangalore location',\n",
       " 'Senior Data Scientist',\n",
       " 'Senior Data Scientist - Kinara Capital',\n",
       " 'Senior Data Scientist, Marketing Analytics',\n",
       " 'Data Scientist',\n",
       " 'Data Scientist/ Senior Data Scientist',\n",
       " 'Principal Data Scientist',\n",
       " 'Lead Data Scientist /Sr. Data Scientist']"
      ]
     },
     "execution_count": 24,
     "metadata": {},
     "output_type": "execute_result"
    }
   ],
   "source": [
    "job_titles=[]\n",
    "for i in titles_tags:\n",
    "    job_titles.append(i.text)\n",
    "job_titles"
   ]
  },
  {
   "cell_type": "code",
   "execution_count": 25,
   "metadata": {},
   "outputs": [],
   "source": [
    "#so lets extract all the tags having the company names-\n",
    "\n",
    "companies_tags=driver.find_elements_by_xpath(\"//a[@class='subTitle ellipsis fleft']\")"
   ]
  },
  {
   "cell_type": "code",
   "execution_count": 26,
   "metadata": {},
   "outputs": [
    {
     "data": {
      "text/plain": [
       "['Inflexion Analytix Private Limited',\n",
       " 'Nielsen',\n",
       " 'IBM India Pvt. Limited',\n",
       " 'IBM India Pvt. Limited',\n",
       " 'Scienaptic Systems',\n",
       " 'Xoriant Solutions Pvt Ltd',\n",
       " 'Huawei Technologies India Pvt Ltd',\n",
       " 'Huawei Technologies India Pvt Ltd',\n",
       " 'IBM India Pvt. Limited',\n",
       " 'Intel Technology India Pvt Ltd',\n",
       " 'Gojek Tech',\n",
       " 'GO-JEK India',\n",
       " 'Societe Generale',\n",
       " 'Kinara Financial Private Limited',\n",
       " 'Kinara Financial Private Limited',\n",
       " 'Hudsons Bay Company',\n",
       " 'Applied Materials',\n",
       " 'o9 Solutions Management India Private Limited',\n",
       " 'NetApp',\n",
       " 'BDITDOMAIN']"
      ]
     },
     "execution_count": 26,
     "metadata": {},
     "output_type": "execute_result"
    }
   ],
   "source": [
    "comp_names=[]\n",
    "for i in companies_tags:\n",
    "    comp_names.append(i.text)\n",
    "comp_names"
   ]
  },
  {
   "cell_type": "code",
   "execution_count": 27,
   "metadata": {},
   "outputs": [],
   "source": [
    "#lets extract the location field\n",
    "\n",
    "loc_tags = driver.find_elements_by_xpath(\"//li[@class='fleft grey-text br2 placeHolderLi location']//span\")"
   ]
  },
  {
   "cell_type": "code",
   "execution_count": 28,
   "metadata": {},
   "outputs": [
    {
     "data": {
      "text/plain": [
       "['Mumbai, Hyderabad/Secunderabad, Pune, Gurgaon/Gurugram, Chennai, Bangalore/Bengaluru',\n",
       " 'Kolkata, Gurgaon/Gurugram, Bangalore/Bengaluru, Vadodara, Mumbai (All Areas)',\n",
       " 'Noida, Hyderabad/Secunderabad, Bangalore/Bengaluru',\n",
       " 'Noida, Hyderabad/Secunderabad, Bangalore/Bengaluru',\n",
       " 'Bangalore/Bengaluru',\n",
       " 'Kochi/Cochin, Indore, Hyderabad/Secunderabad, Pune, Ahmedabad, Bangalore/Bengaluru, Mumbai (All Areas)',\n",
       " 'Bangalore/Bengaluru',\n",
       " 'Bangalore/Bengaluru',\n",
       " 'Bangalore/Bengaluru',\n",
       " 'Bangalore/Bengaluru',\n",
       " 'Bangalore/Bengaluru',\n",
       " 'Bangalore/Bengaluru',\n",
       " 'Bangalore/Bengaluru',\n",
       " 'Bangalore/Bengaluru',\n",
       " 'Bangalore/Bengaluru',\n",
       " 'Bangalore/Bengaluru',\n",
       " 'Bangalore/Bengaluru',\n",
       " 'Bangalore/Bengaluru',\n",
       " 'Bangalore/Bengaluru',\n",
       " 'Hyderabad/Secunderabad, Bangalore/Bengaluru, Mumbai (All Areas)']"
      ]
     },
     "execution_count": 28,
     "metadata": {},
     "output_type": "execute_result"
    }
   ],
   "source": [
    "loc_name=[]\n",
    "for i in loc_tags:\n",
    "    loc_name.append(i.text)\n",
    "loc_name"
   ]
  },
  {
   "cell_type": "code",
   "execution_count": 29,
   "metadata": {},
   "outputs": [
    {
     "data": {
      "text/plain": [
       "[\"Job description\\nJob Role : Data Scientist/Data Analyst /Business Analyst\\n\\nLocation : Chennai/Bangalore/Hyderabad/Pune/Mumbai/Delhi\\n\\nGreetings from CAIA - Center for Artificial Intelligence & Advanced Analytics\\n43% of companies experienced a high deficit of skilled resources with Advanced Analytical skills and AI implementing capabilities in year 2020. CAIA gives you a great opportunity to enter the world of future technologies and Innovations- Data Science, Analytics, AI, Data Visualization and Cloud Computing.\\n\\nWhile 2020 was a year like no other, we are living in an interesting times where data is reshaping the world, and businesses are rapidly adopting technology to gain an edge over others. Hence, there's a substantial increase in demand for technology professionals who can implement systems in data science, machine learning and AI in Tier 1 and Tier 2 organization's working closely with us.\\n\\nTo help you build a sustainable career we would like you to utilize data, software and Analytical approaches in Data Science and AI to up skill and get recruited into an organization appreciating your skilling journey.\\nApplications invited from all Freshers and experienced candidates (0-3 yrs) aspiring to make a career in Artificial Intelligence and Advanced Analytics and Data Science.\\nIf you wish to make a shift in your career or undergo a career transition, upskilling is essential since it allows you to learn more about the domain and acquire the required skills.\\n\\nCall to schedule interview Monday -Saturday from 10:00 am to 7Pm\\n\\nManigandan -+91 7299917200\\n\\nEmail : manigandan@centerforaia.com\\n\\nWhat is needed from you?\\n\\nFreshers who wish to start their career in Analytics and AI and professionals who wish to\\nupskill or change their domain to analytics and emerging technologies are free to apply.\\nAn Educational background in any one of the following- BE/B.Tech, ME/M Tech, MSc, BSc/MSc Maths and Statistics, B Com, BCA, BSc CS, BSC IT, MSC IT, MCA\\nSkills relating to Mathematics/Statistics.\\nNatural passion towards numbers, business, coding, Analytics and Artificial Intelligence, Machine Learning, visualization\\nGood verbal and written communication skills\\nAbility to understand domains in businesses across various sectors\\n\\n\\nSelection procedure includes\\n\\nAptitude Test & Communication Exam - Online / Offline\\nSQL/Python test - Online / Offline\\n\\nCandidates who clears the above will have one-one discussion with our Career Guidance Manager for further evaluation and processing of your Resume.\\n\\n\\nAll the Shortlisted candidates will be eligible to continue the corporate training with CAIA\\nWhat you can expect from us?\\n\\nYou will get trained on the following modules for a period of 12-14 weeks:\\n\\nSQL & PLSQL\\nData Wrangling using Python\\nData Visualization Using Power-BI\\nStatistics for Machine Learning\\nArtificial Intelligence, Data Interpretation\\nSupervised & Unsupervised Learning,\\nNLP & Deep Learning\\nCloud Data Lake\\nBusiness intelligence & Data Visualization\\nSimulation Projects\\nExpected Outcome?\\n\\nAt the end of the Training you are expected to be well versed with the following:\\n\\nAnalysis of large and complex data sets from multiple sources\\nDevelopment and evaluation of data analytics models, algorithms and solutions\\nUnderstanding/implementation of ML algorithms, performance tuning and reporting\\nImplementation of algorithms to mine targeted data and the ability to convert data in to a business story\\nTranslation of business requirements into technical requirements; Data extraction, preparation and transformation\\nIdentification, development and implementation of statistical techniques and algorithms that address business challenges and adds value to the organization\\nRequirement Analysis and communication of findings in the form of a meaningful story with the stakeholders\\nFinding analytical solutions to abstract business issues.\\nApply objective analysis of facts before coming to a conclusion\\n\\nAbout CAIA - Inflexion Analytix Private Limited\\n\\nCenter for Artificial Intelligence and Advanced Analytics (Center for AIA) is the brainchild of experienced and visionary alumni of IIT Madras and Bombay.\\nDigital leaders - 5F World and Systech Solutions have joined hands to create a venture for architecting the future of society, workforce, governments and businesses. 5F World specializes in designing solutions around digital platforms and Systech Solutions has an expertise in architecting Artificial Intelligence and Advance Analytics solutions for Fortune 500 companies.\\nOur Website : http://www.centerforaia.com/\\n\\nhttps://inflexion-analytix-private-limited.business.site/?m=true\\n\\nCenter for Artificial Intelligence & Advanced Analytics (CAIA) focuses on the following:\\n\\n1. Global Research on emerging trends, technologies and applications in AI and Advanced Analytics\\n2. Advanced Training programs for readying the future ready workforce\\n3. Solutions to herald the futuristic lifestyle and workspaces in the field of AI and Data Science.\\nRoleData Analyst\\nIndustry TypeBPO / Call Centre\\nFunctional AreaAnalytics & Business Intelligence\\nEmployment TypeFull Time, Permanent\\nRole CategoryAnalytics & BI\\nEducation\\nUG :Any Graduate in Any Specialization\\nKey Skills\\nBusiness IntelligenceArtificial IntelligenceBig DataITMachine LearningStatisticsDeep LearningAnalyticsBusiness AnalysisSQLData ScienceNLPCloud ComputingData VisualizationSoftwareData WarehousingPython\",\n",
       " 'Job description\\nWe wont say we can predict the future, but our team of Analysts get pretty close, they turn millions of data points into useful information & insights that help our clients to make better decisions on their marketing mix and achieve superior results. Be part of the future and join in on one of the major transformations in the market research industry with the integration of big data and classic marketing mix analysis.\\n\\nResponsibilities:\\nDeliver as a part of our consultant team in driving high quality results on custom project work\\nEnsure effective and timely delivery of project work\\nWork towards understanding statistical models and deliver business insights and findings\\nEnsure compliance to Marketing Mix Modeling modeling practices and company quality standards\\nMaximize the efficient and effective use of resources by utilizing appropriate processes and tools\\nTo build and maintain effective contacts with other departments to ensure the efficient and effective use of resources\\nLiaise with appropriate Marketing Mix Modeling and Nielsen departments to ensure hardware and software requirements are fulfilled\\nWork with co/ third party modellers to deliver business insights and findings\\n\\nQualifications and Skills\\n2-5 years of relevant experience\\nMasters degree in Economics, Mathematics, Statistics, Engineering\\nIn-depth understanding of statistical modeling techniques and applications\\nGood and working knowledge of any statistical languages like SAS, R, Pythons\\nSolid proficiency of decision making and problem resolution skills\\nPassion for results with a challenger mindset\\n\\nAbout the Team:\\nGlobal Product, Technology & Operations supports Nielsen Medias growth strategy by enabling positive client and market solutions. Our Operations Team is in a unique position as the center of data collection, analysis and delivery. We deliver outcomes with the highest quality and integrity standards in an agile and transparent way while standing by our Nielsen values.\\n\\n\\nRoleBusiness Analyst\\nIndustry TypeAnalytics / KPO / Research\\nFunctional AreaStrategy, Management Consulting, Corporate Planning\\nEmployment TypeFull Time, Permanent\\nRole CategoryCorporate Planning/Consulting/Strategy\\nEducation\\nPG :MS/M.Sc(Science) in Statistics, Maths, M.A in Economics, MBA/PGDM in Any Specialization\\nKey Skills\\nPredictive ModelingSASSegmentationK-MeansStatisticsOptimizationRandom ForestRMarketing Mix ModelingLinear RegressionStatistical ModelingBusiness InsightsMarket Research',\n",
       " 'Not Available',\n",
       " 'Not Available',\n",
       " 'Job description\\n\\nResponsibilities and duties Focus on developing clear and concise analytical approach for problem solving with client partnership\\nStrong understanding of ML libraries and applications e.g. Neural Net, SVMs, boosting methods and implementation using R/Python. Should have academic paper level understanding of math e.g. linear algebra, calculus etc.\\nAbility to code on SAS/R for data munging, analysis and insights and/or languages like Python for creating efficient production ready code\\nManaging delivery of projects including timely communication, setting milestones and tracking Generating actionable insights for business/KPI improvements Ability to work independently, structure analyses and handle multiple priorities Develop and Maintaining Credit Risk Models Strategies Rich experience in at least one production ready deployment of Machine Learning algorithms is a plus. Experience in working on real life large messy dataset to solve real business problems. Kaggle experience is a plus.\\n  Skills Competencies: Experience in Financial Services/ Fintech/ BFSI along with Credit Risk in Retail Banking and Data Science 5 years of experience in building predictive models (Application Scorecard, Behaviour Scorecard, Collection Score Card, Loan Pricing, Loss Forecasting, Cross Sell Model) Experienced Statistical software skills (e.g. SAS, R, Python Strong understanding of ML libraries and applications. Strong experience in leading credit risk model development, validation, deployment, and documentation Analytically oriented with ability to grasp complex risk management strategies, processes, models and draw insights / identify areas of opportunity\\nStrong track record of delivering on high value / critical projects. Ability to communicate with senior stakeholders crisply and confidently on findings, status, bottlenecks, and escalations\\nProven track record of delivering in a start-up environment would be a plus Strong written and oral communication skills\\nRoleOutside Technical Consultant\\nIndustry TypeIT Services & Consulting\\nFunctional AreaIT Software - System Programming\\nEmployment TypeFull Time, Permanent\\nRole CategorySystem Design/Implementation/ERP/CRM\\nEducation\\nUG :Any Graduate in Any Specialization\\nPG :Post Graduation Not Required\\nKey Skills\\nCVSBfsiAnalyticalMachine learningCredit riskData miningRisk managementForecastingFinancial servicesPython',\n",
       " 'Not Available',\n",
       " 'Job description\\nBusiness & Team overview:\\nFounded in 1987, Huawei is a leading global provider of ICT (information and communications technology) infrastructure and smart devices. We are committed to bringing digital to every person, home and organization for a fully connected, intelligent world. We have nearly 194,000 employees, and we operate in more than 170 countries and regions, serving more than 3 billion people around the world.\\n\\nHuawei Technologies has three business directions: Carrier Business Group, which provides innovative and secure network equipment to telecom carriers, including the leading 5G mobile network.\\nEnterprise Business Group, which provides facilities and solutions to big and small companies, including IT facilities.\\nConsumer Business Groups, which provides devices to the customer, including mobile phones, PC, tablet, TV, audio, glasses, watches, locomotives, and headphones. And also provide solutions on mobile offices, smart homes, sports and health, audio-visual entertainment, and smart travel products.\\n\\nThis opportunity is belong to Huawei Consumer Business Group.\\n\\nDriven by the coordinated development of \"Chip-Device-Cloud\", consumer products such as smartphones are becoming increasingly intelligent and pervasive. The era of smart services is the future.\\n\\nHuawei Ads Services is dedicated to provide Huawei end-users with high-quality digital experiences, to build a business closed-loop system for Developers and Improve the ROI for the Advertisers\\n.\\nIn 2020 Q1, along with more than 650 million users and 1,400,000 registered developers worldwide, we have the following unique advantages:\\n1. With All-scenario intelligent solution, the Huawei devices become super entrance of traffic, including mobile phones, PC, tablet, TV, audio, glasses, watches, locomotives, and head phones\\n2. This team will be responsible for building a new Ad Serving Platform and have the opportunity to define the product for our Huawei end-users.\\n3. AI-Driven is the direction of Ads, Huawei is going to build a strong team in India to Innovate and deliver AI-driven Smart Ad Serving Platforms\\n\\nJob Title: Lead Data Scientist\\nWe are looking for a Lead data scientist who will help us discover the information hidden in vast amounts of Ad Campaign data, and help us to optimize the campaign to improve the advertiser ROI and improve the overall consumer experience. Your primary focus will be in applying data mining techniques, doing statistical analysis, and building high quality prediction systems using Deep learning algorithms integrated with our products. Some the key area you will be working on spend recommendation, floor price prediction, CTR/CVR prediction, market funnel analysis and perdition of lead to conversion, etc.\\n\\nResponsibility:\\nAnalyze the data, develop insights and identify the opportunity to utilize the data to predict various Advertisement key indicators like CTR, CVR, Inventory and Develop prediction and optimization algorithms for campaign, look alike modeling, etc for Huawei Ads.\\nTakeup key challenges in AI-driven Smart Ad Serving Platform and focus on research and developing leading AI algorithms and productionize for Huawei Ads.\\nTakeup initiative in identifying the SOTA and finding key gaps in AI algorithms and develop a world leading AI algorithms for optimizing real-time Ad Serving engine. Identify and optimize the core modules such as Traffic Prediction, Optimization, Ad Targeting/Re-targeting, Ad Performance Optimization, Audience insights, Attribution, Bidding, re-ranking, and Diagnostics. Support hundreds of billions of ad requests per day, with efficiently cache technology.\\nTo build and enhance Ad platform features and Prediction capabilities in Huawei Ads Platform\\nOptimized Cost Per Mille; Optimized Cost Per Action; Optimized Cost Per Click and Cost per Click. OCPM, OCPA, OCPC.\\n\\nRequirements:\\n- Strong hands-on experience in implementing and validating big data algorithms and models including Deep Learning models like Seq2Seq/ GRU/RNN/LSTM , Knowledge Graph, Massive Graph algorithms, etc.\\n- Programming experience with Python\\n- Able to validate existing models including Deep Learning models with large scale dataset and able to make changes to the models to achieve better performance\\n- AdServing domain Experience is an added advantage\\nRoleAnalytics Manager\\nIndustry TypeTelecom / ISP\\nFunctional AreaAnalytics & Business Intelligence\\nEmployment TypeFull Time, Permanent\\nRole CategoryAnalytics & BI\\nEducation\\nUG :Any Graduate in Any Specialization\\nPG :Any Postgraduate in Any Specialization\\nKey Skills\\nRnnAlgorithmsLstmArtificial IntelligenceData ScientistBig DataData MiningStatistical AnalysisDeep LearningPython',\n",
       " 'Job description\\nBusiness & Team overview:\\nFounded in 1987, Huawei is a leading global provider of ICT (information and communications technology) infrastructure and smart devices. We are committed to bringing digital to every person, home and organization for a fully connected, intelligent world. We have nearly 194,000 employees, and we operate in more than 170 countries and regions, serving more than 3 billion people around the world.\\n\\nHuawei Technologies has three business directions: Carrier Business Group, which provides innovative and secure network equipment to telecom carriers, including the leading 5G mobile network.\\nEnterprise Business Group, which provides facilities and solutions to big and small companies, including IT facilities.\\nConsumer Business Groups, which provides devices to the customer, including mobile phones, PC, tablet, TV, audio, glasses, watches, locomotives, and headphones. And also provide solutions on mobile offices, smart homes, sports and health, audio-visual entertainment, and smart travel products.\\n\\nThis opportunity is belong to Huawei Consumer Business Group.\\n\\nDriven by the coordinated development of \"Chip-Device-Cloud\", consumer products such as smartphones are becoming increasingly intelligent and pervasive. The era of smart services is the future.\\nHuawei Ads Services is dedicated to provide Huawei end-users with high-quality digital experiences, to build a business closed-loop system for Developers and Improve the ROI for the Advertisers\\n.\\nIn 2020 Q1, along with more than 650 million users and 1,400,000 registered developers worldwide, we have the following unique advantages:\\n1. With All-scenario intelligent solution, the Huawei devices become super entrance of traffic, including mobile phones, PC, tablet, TV, audio, glasses, watches, locomotives, and head phones\\n2. This team will be responsible for building a new Ad Serving Platform and have the opportunity to define the product for our Huawei end-users.\\n3. AI-Driven is the direction of Ads, Huawei is going to build a strong team in India to Innovate and deliver AI-driven Smart Ad Serving Platforms\\n\\n1. Job Title: Computational Design Lead Data Scientist\\n\\nResponsibility:\\nTake-up Key creative tools of the creative platform for Advertisers, research and develop breakthrough CNN based deep learning algorithms to solve the problem unique in the industry and productionize the algorithms, measure the ad creative performance and enhance the algorithm to ease the Ad Designer job.\\nDevelop the common AI platforms and frameworks to ease the experimentation of the Algorithms for creative Design.\\nTo build ability to understand the advertisers intent and provide creative assistance every step of creating all types of adverts\\nResponsible for intelligent identification of advertising creatives (pictures, videos) and related algorithms of content understanding.\\nResponsible for Image Synthesis, Intelligent Layout, Style Transfer, and other image processing, computing and visual processing, to improve the aesthetic level of advertising creativity.\\nResponsible for designing algorithms for suggesting how to intelligently crop and position an image for maximum effect, identify the optimal placement of text and copywriting.\\nResponsible for the algorithm and model of dynamic matching of advertising program creativity and dynamic creation of advertising content\\n\\nRequirements:\\nDeep knowledge of Computational Design\\nExperience on Intelligent composition, including image cropping, smart layout, the Gold Ratio composition, visual extension.\\nExperience computer vision models, including image/video recognition and content understanding.\\nExperience in algorithms such as image and video segmentation, separation, synthesis, and intelligent layout with engineering platform implementation capability.\\nStrong Knowledge Algorithms such as Image segmentation, object detection, Image processing (filtering, noise removal, histogram thresholding, etc.), object tracking, image transformation (affine transform, dewarping), keypoint detection/description, etc (and experience in using Computer vision Libraries)\\nStrong Knowledge in CNN, R-CNN, GAN, LSTM, GRU, Multimodal feature Learning, ASR, NLU, NLG, Copywriting and KG will be an added advantage\\nStrong logic/probability thinking ability and be good at analyzing, summarizing, describing, communicating, and solving problems\\nWorking experience in related online advertising products/creative platform is preferred\\nWorking experience in Computer Vision (CV) to enhance user artistic creativity while creating creatives/adverts is preferred\\nAbility to identify trends of advertising creative platform.\\n\\n\\nRoleData Analyst\\nIndustry TypeTelecom / ISP\\nFunctional AreaAnalytics & Business Intelligence\\nEmployment TypeFull Time, Permanent\\nRole CategoryAnalytics & BI\\nEducation\\nUG :Any Graduate in Any Specialization\\nPG :Any Postgraduate in Any Specialization\\nKey Skills\\nObject DetectionR-CNNCnnAlgorithmsLstmGANArtificial IntelligenceImage ProcessingData ScientistComputer VisionComputational DesignDeep Learning',\n",
       " 'Not Available',\n",
       " 'Job description\\n\\n\\nWe are seeking an outstanding Lead Data Scientist in AI/ML who will help our team continue to grow and bring high value to Intel. In this role you should demonstrate excellent problem formulation/definition skills in addition to technical skills. The ideal candidate should be:\\n\\nA professional role model with deep and wide expertise in state-of-the-art AI/ML techniques, a passion for solving challenging data science problems and extensive hands-on experience.\\nBe detail-oriented and have an aptitude for solving unstructured problems. You should be excellent in coming up with different approaches to solve business problem using AI and evaluate the trade-off between them.\\nBe self-directed, take charge of opportunities with business impact and drive them to completion.\\nHave prior experience in guiding a team of data scientists, coaching and mentoring them.\\nHave deep technical expertise in feature-engineering of massive datasets, effective exploratory data analysis, and model building using AI/ML techniques.\\nBe a role model innovator by adapting new AI/ML modeling techniques and procedures.\\nHave deep expertise in creation and management of datasets.\\nHave excellent business and communication skills to be able to work with stakeholders like the business teams, engineering teams and partner teams and align them with respect to your focus area.\\nHave the ability to manage and execute an entire AI project from start to finish, including problem solving, data gathering and manipulation, predictive modeling, and project management skills.\\nBe a role-model in storytelling with data and articulating the AI problems in an understandable manner to senior leadership of the Business Units.\\n\\nYou will be a part of the large global AI/ML Research Scientist community and will have access to state-of-the-art training, tools, and methods of the domain.\\n\\n\\nCandidates need to hold at least a masters degree (or higher) in Computer Science/Machine Learning/AI/Data Science\\n8 years of relevant experience in building AI/ML models and in using Python (Scikit-learn, TensorFlow/Pytorch) and SQL (or equivalent).\\nExperience in using data analysis techniques and ML methods like classification, regression pattern finding, clustering, dimensionality reduction, anomaly detection etc.\\nExperience with Hadoop, Spark is an advantage\\nDeep Knowledge of classical AI algorithms and Deep Learning techniques is a must.\\nGreat analytical skills and demonstrated ability of independent and creative thinking.\\nHighly motivated strong team player with the ability to work both independently and collaboratively within a team.\\nHas strong analytical skills, including the abilities to scope out business problems to be solved, start from ambiguous problem statements, identify and access relevant data, make appropriate assumptions, perform insightful analysis and draw conclusions relevant to the business problem.\\nAbility to present information professionally and concisely with supporting data.\\nPrevious experience as a data scientist in semi-conductor industry or data intensive organizations is a plus.\\nExperience in creating powerful data driven visualizations to describe ML modeling results to stakeholders.\\nRoleTeam Lead/Technical Lead\\nIndustry TypeIT Services & Consulting\\nFunctional AreaIT Software - Application Programming, Maintenance\\nEmployment TypeFull Time, Permanent\\nRole CategoryProgramming & Design\\nEducation\\nUG :Any Graduate in Any Specialization\\nPG :Any Postgraduate in Any Specialization\\nKey Skills\\nComputer scienceData analysisFormulationArtificial IntelligenceMachine learningSignal processingPredictive modelingForecastingSQLPython']"
      ]
     },
     "execution_count": 29,
     "metadata": {},
     "output_type": "execute_result"
    }
   ],
   "source": [
    "#lets extract the full job description\n",
    "\n",
    "from selenium.common.exceptions import  NoSuchElementException\n",
    "urls=[]\n",
    "job_description=[]\n",
    "for i in driver.find_elements_by_xpath(\"//a[@class='title fw500 ellipsis']\"):\n",
    "    urls.append(i.get_attribute(\"href\"))\n",
    "\n",
    "for url in urls[0:10]:\n",
    "    \n",
    "    try:\n",
    "        driver.get(url)\n",
    "        description=driver.find_element_by_xpath(\"//section[@class='job-desc']\").text\n",
    "        job_description.append(description)\n",
    "    except NoSuchElementException :\n",
    "        job_description.append(\"Not Available\")\n",
    "job_description"
   ]
  },
  {
   "cell_type": "code",
   "execution_count": 30,
   "metadata": {},
   "outputs": [
    {
     "name": "stdout",
     "output_type": "stream",
     "text": [
      "20 20 10 20\n"
     ]
    }
   ],
   "source": [
    "#length of each tags\n",
    "print(len(job_titles),len(comp_names),len(job_description),len(loc_name))"
   ]
  },
  {
   "cell_type": "code",
   "execution_count": 31,
   "metadata": {},
   "outputs": [],
   "source": [
    "#Creating dataframe for top 10 data scientist jobs searches.\n",
    "import pandas as pd\n",
    "jobs=pd.DataFrame({})\n",
    "jobs['TITLE']=job_titles[:10]\n",
    "jobs['LOCATION']=loc_name[:10]\n",
    "jobs['COMPANY']=comp_names[:10]\n",
    "jobs['JOB_DESCRIPTION']=job_description[:10]"
   ]
  },
  {
   "cell_type": "code",
   "execution_count": 32,
   "metadata": {},
   "outputs": [
    {
     "data": {
      "text/html": [
       "<div>\n",
       "<style scoped>\n",
       "    .dataframe tbody tr th:only-of-type {\n",
       "        vertical-align: middle;\n",
       "    }\n",
       "\n",
       "    .dataframe tbody tr th {\n",
       "        vertical-align: top;\n",
       "    }\n",
       "\n",
       "    .dataframe thead th {\n",
       "        text-align: right;\n",
       "    }\n",
       "</style>\n",
       "<table border=\"1\" class=\"dataframe\">\n",
       "  <thead>\n",
       "    <tr style=\"text-align: right;\">\n",
       "      <th></th>\n",
       "      <th>TITLE</th>\n",
       "      <th>LOCATION</th>\n",
       "      <th>COMPANY</th>\n",
       "      <th>JOB_DESCRIPTION</th>\n",
       "    </tr>\n",
       "  </thead>\n",
       "  <tbody>\n",
       "    <tr>\n",
       "      <th>0</th>\n",
       "      <td>Data Scientist / Data Analyst -Business Analyst</td>\n",
       "      <td>Mumbai, Hyderabad/Secunderabad, Pune, Gurgaon/...</td>\n",
       "      <td>Inflexion Analytix Private Limited</td>\n",
       "      <td>Job description\\nJob Role : Data Scientist/Dat...</td>\n",
       "    </tr>\n",
       "    <tr>\n",
       "      <th>1</th>\n",
       "      <td>Senior Data Scientist, Modeling</td>\n",
       "      <td>Kolkata, Gurgaon/Gurugram, Bangalore/Bengaluru...</td>\n",
       "      <td>Nielsen</td>\n",
       "      <td>Job description\\nWe wont say we can predict th...</td>\n",
       "    </tr>\n",
       "    <tr>\n",
       "      <th>2</th>\n",
       "      <td>Data Scientist - IBM Garage</td>\n",
       "      <td>Noida, Hyderabad/Secunderabad, Bangalore/Benga...</td>\n",
       "      <td>IBM India Pvt. Limited</td>\n",
       "      <td>Not Available</td>\n",
       "    </tr>\n",
       "    <tr>\n",
       "      <th>3</th>\n",
       "      <td>Data Scientist</td>\n",
       "      <td>Noida, Hyderabad/Secunderabad, Bangalore/Benga...</td>\n",
       "      <td>IBM India Pvt. Limited</td>\n",
       "      <td>Not Available</td>\n",
       "    </tr>\n",
       "    <tr>\n",
       "      <th>4</th>\n",
       "      <td>Senior Data Scientist - Credit risk</td>\n",
       "      <td>Bangalore/Bengaluru</td>\n",
       "      <td>Scienaptic Systems</td>\n",
       "      <td>Job description\\n\\nResponsibilities and duties...</td>\n",
       "    </tr>\n",
       "    <tr>\n",
       "      <th>5</th>\n",
       "      <td>Big Data - Data Scientist</td>\n",
       "      <td>Kochi/Cochin, Indore, Hyderabad/Secunderabad, ...</td>\n",
       "      <td>Xoriant Solutions Pvt Ltd</td>\n",
       "      <td>Not Available</td>\n",
       "    </tr>\n",
       "    <tr>\n",
       "      <th>6</th>\n",
       "      <td>SDE Lead Data Scientist-L3</td>\n",
       "      <td>Bangalore/Bengaluru</td>\n",
       "      <td>Huawei Technologies India Pvt Ltd</td>\n",
       "      <td>Job description\\nBusiness &amp; Team overview:\\nFo...</td>\n",
       "    </tr>\n",
       "    <tr>\n",
       "      <th>7</th>\n",
       "      <td>Computational Design Lead Data Scientist-L3</td>\n",
       "      <td>Bangalore/Bengaluru</td>\n",
       "      <td>Huawei Technologies India Pvt Ltd</td>\n",
       "      <td>Job description\\nBusiness &amp; Team overview:\\nFo...</td>\n",
       "    </tr>\n",
       "    <tr>\n",
       "      <th>8</th>\n",
       "      <td>Data Scientist</td>\n",
       "      <td>Bangalore/Bengaluru</td>\n",
       "      <td>IBM India Pvt. Limited</td>\n",
       "      <td>Not Available</td>\n",
       "    </tr>\n",
       "    <tr>\n",
       "      <th>9</th>\n",
       "      <td>Lead Data Scientist</td>\n",
       "      <td>Bangalore/Bengaluru</td>\n",
       "      <td>Intel Technology India Pvt Ltd</td>\n",
       "      <td>Job description\\n\\n\\nWe are seeking an outstan...</td>\n",
       "    </tr>\n",
       "  </tbody>\n",
       "</table>\n",
       "</div>"
      ],
      "text/plain": [
       "                                             TITLE  \\\n",
       "0  Data Scientist / Data Analyst -Business Analyst   \n",
       "1                  Senior Data Scientist, Modeling   \n",
       "2                      Data Scientist - IBM Garage   \n",
       "3                                   Data Scientist   \n",
       "4              Senior Data Scientist - Credit risk   \n",
       "5                        Big Data - Data Scientist   \n",
       "6                       SDE Lead Data Scientist-L3   \n",
       "7      Computational Design Lead Data Scientist-L3   \n",
       "8                                   Data Scientist   \n",
       "9                              Lead Data Scientist   \n",
       "\n",
       "                                            LOCATION  \\\n",
       "0  Mumbai, Hyderabad/Secunderabad, Pune, Gurgaon/...   \n",
       "1  Kolkata, Gurgaon/Gurugram, Bangalore/Bengaluru...   \n",
       "2  Noida, Hyderabad/Secunderabad, Bangalore/Benga...   \n",
       "3  Noida, Hyderabad/Secunderabad, Bangalore/Benga...   \n",
       "4                                Bangalore/Bengaluru   \n",
       "5  Kochi/Cochin, Indore, Hyderabad/Secunderabad, ...   \n",
       "6                                Bangalore/Bengaluru   \n",
       "7                                Bangalore/Bengaluru   \n",
       "8                                Bangalore/Bengaluru   \n",
       "9                                Bangalore/Bengaluru   \n",
       "\n",
       "                              COMPANY  \\\n",
       "0  Inflexion Analytix Private Limited   \n",
       "1                             Nielsen   \n",
       "2              IBM India Pvt. Limited   \n",
       "3              IBM India Pvt. Limited   \n",
       "4                  Scienaptic Systems   \n",
       "5           Xoriant Solutions Pvt Ltd   \n",
       "6   Huawei Technologies India Pvt Ltd   \n",
       "7   Huawei Technologies India Pvt Ltd   \n",
       "8              IBM India Pvt. Limited   \n",
       "9      Intel Technology India Pvt Ltd   \n",
       "\n",
       "                                     JOB_DESCRIPTION  \n",
       "0  Job description\\nJob Role : Data Scientist/Dat...  \n",
       "1  Job description\\nWe wont say we can predict th...  \n",
       "2                                      Not Available  \n",
       "3                                      Not Available  \n",
       "4  Job description\\n\\nResponsibilities and duties...  \n",
       "5                                      Not Available  \n",
       "6  Job description\\nBusiness & Team overview:\\nFo...  \n",
       "7  Job description\\nBusiness & Team overview:\\nFo...  \n",
       "8                                      Not Available  \n",
       "9  Job description\\n\\n\\nWe are seeking an outstan...  "
      ]
     },
     "execution_count": 32,
     "metadata": {},
     "output_type": "execute_result"
    }
   ],
   "source": [
    "jobs"
   ]
  },
  {
   "cell_type": "markdown",
   "metadata": {},
   "source": [
    "# Q3: In this question we have to scrape data using the filters available on the webpage as over on location- Delhi/NCR and salary range from 3-6 lakhs"
   ]
  },
  {
   "cell_type": "code",
   "execution_count": 48,
   "metadata": {},
   "outputs": [],
   "source": [
    "driver = webdriver.Chrome('chromedriver.exe')\n",
    "url=(\"https://www.naukri.com/\")\n",
    "driver.get(url)"
   ]
  },
  {
   "cell_type": "code",
   "execution_count": 49,
   "metadata": {},
   "outputs": [],
   "source": [
    "#finding element for job search for data scientist using id function.\n",
    "\n",
    "search_job = driver.find_element_by_id('qsb-keyword-sugg')\n",
    "search_job.send_keys(\"Data Scientist\")"
   ]
  },
  {
   "cell_type": "code",
   "execution_count": 50,
   "metadata": {},
   "outputs": [],
   "source": [
    "search_btn = driver.find_element_by_xpath(\"//button[@class='btn']\")\n",
    "search_btn.click()"
   ]
  },
  {
   "cell_type": "code",
   "execution_count": 51,
   "metadata": {},
   "outputs": [],
   "source": [
    "#creating filter for job location \n",
    "import time\n",
    "\n",
    "fil_loc = driver.find_element_by_xpath('//span[@title=\"Delhi / NCR\"]').click()\n",
    "time.sleep(5)"
   ]
  },
  {
   "cell_type": "code",
   "execution_count": 52,
   "metadata": {},
   "outputs": [],
   "source": [
    "#creating filter for salary range-\n",
    "\n",
    "fil_sal =  driver.find_element_by_xpath('//span[@title=\"3-6 Lakhs\"]').click()\n",
    "time.sleep(5)"
   ]
  },
  {
   "cell_type": "code",
   "execution_count": 53,
   "metadata": {},
   "outputs": [],
   "source": [
    "#lets extract the company name\n",
    "comp_name=[]\n",
    "company_name=driver.find_elements_by_xpath('//a[@class=\"subTitle ellipsis fleft\"]')\n",
    "for i in company_name:\n",
    "    comp_name.append(i.text)"
   ]
  },
  {
   "cell_type": "code",
   "execution_count": 54,
   "metadata": {},
   "outputs": [],
   "source": [
    "#lets extract the location\n",
    "comp_loc=[]\n",
    "location=driver.find_elements_by_xpath('//li[@class=\"fleft grey-text br2 placeHolderLi location\"]')\n",
    "for i in location:\n",
    "    comp_loc.append(i.text)"
   ]
  },
  {
   "cell_type": "code",
   "execution_count": 55,
   "metadata": {},
   "outputs": [],
   "source": [
    "#lets extract the job title\n",
    "title=[]\n",
    "job_titles=driver.find_elements_by_xpath('//a[@class=\"title fw500 ellipsis\"]')\n",
    "for i in job_titles:\n",
    "    title.append(i.text)"
   ]
  },
  {
   "cell_type": "code",
   "execution_count": 56,
   "metadata": {},
   "outputs": [],
   "source": [
    "#lets extract the experience required\n",
    "exp=[]\n",
    "experience=driver.find_elements_by_xpath('//span[@class=\"ellipsis fleft fs12 lh16\"]')\n",
    "for i in experience:\n",
    "    exp.append(i.text)"
   ]
  },
  {
   "cell_type": "code",
   "execution_count": 57,
   "metadata": {},
   "outputs": [
    {
     "name": "stdout",
     "output_type": "stream",
     "text": [
      "20 20 20 60\n"
     ]
    }
   ],
   "source": [
    "print(len(comp_name),len(comp_loc),len(title),len(exp))"
   ]
  },
  {
   "cell_type": "code",
   "execution_count": 58,
   "metadata": {},
   "outputs": [],
   "source": [
    "#Let's create a DataFrame for our data\n",
    "jobs=pd.DataFrame({})\n",
    "jobs['Job Title']=title[0:10]\n",
    "jobs['Company Name']=comp_name[0:10]\n",
    "jobs['Job Location']=comp_loc[0:10]\n",
    "jobs['Experience']=exp[0:10]"
   ]
  },
  {
   "cell_type": "code",
   "execution_count": 83,
   "metadata": {},
   "outputs": [
    {
     "data": {
      "text/html": [
       "<div>\n",
       "<style scoped>\n",
       "    .dataframe tbody tr th:only-of-type {\n",
       "        vertical-align: middle;\n",
       "    }\n",
       "\n",
       "    .dataframe tbody tr th {\n",
       "        vertical-align: top;\n",
       "    }\n",
       "\n",
       "    .dataframe thead th {\n",
       "        text-align: right;\n",
       "    }\n",
       "</style>\n",
       "<table border=\"1\" class=\"dataframe\">\n",
       "  <thead>\n",
       "    <tr style=\"text-align: right;\">\n",
       "      <th></th>\n",
       "      <th>Job Title</th>\n",
       "      <th>Company Name</th>\n",
       "      <th>Job Location</th>\n",
       "      <th>Experience</th>\n",
       "    </tr>\n",
       "  </thead>\n",
       "  <tbody>\n",
       "    <tr>\n",
       "      <th>0</th>\n",
       "      <td>Data Scientist / Data Analyst -Business Analyst</td>\n",
       "      <td>Inflexion Analytix Private Limited</td>\n",
       "      <td>Mumbai, Hyderabad/Secunderabad, Pune, Gurgaon/...</td>\n",
       "      <td>0-3 Yrs</td>\n",
       "    </tr>\n",
       "    <tr>\n",
       "      <th>1</th>\n",
       "      <td>Data Scientist - High growth VC backed Influen...</td>\n",
       "      <td>Ravgins International Pvt. Ltd.</td>\n",
       "      <td>Bangalore/Bengaluru, Delhi / NCR, Mumbai (All ...</td>\n",
       "      <td>3,50,000 - 4,50,000 PA.</td>\n",
       "    </tr>\n",
       "    <tr>\n",
       "      <th>2</th>\n",
       "      <td>Excellent opportunity For Data Scientist</td>\n",
       "      <td>NEC CORPORATION INDIA PRIVATE LIMITED</td>\n",
       "      <td>Noida, Bangalore/Bengaluru</td>\n",
       "      <td>Mumbai, Hyderabad/Secunderabad, Pune, Gurgaon/...</td>\n",
       "    </tr>\n",
       "    <tr>\n",
       "      <th>3</th>\n",
       "      <td>Data Scientist</td>\n",
       "      <td>Mobikwik</td>\n",
       "      <td>New Delhi, Gurgaon/Gurugram, Delhi / NCR</td>\n",
       "      <td>3-5 Yrs</td>\n",
       "    </tr>\n",
       "    <tr>\n",
       "      <th>4</th>\n",
       "      <td>DATA Scientist – Gurgaon (Exp 3-6 years)</td>\n",
       "      <td>CRESCENDO GLOBAL LEADERSHIP HIRING INDIA PRIVA...</td>\n",
       "      <td>Gurgaon/Gurugram, Delhi / NCR</td>\n",
       "      <td>5,00,000 - 6,00,000 PA.</td>\n",
       "    </tr>\n",
       "    <tr>\n",
       "      <th>5</th>\n",
       "      <td>DATA Scientist – Gurgaon (Exp 3-6 years)</td>\n",
       "      <td>CRESCENDO GLOBAL LEADERSHIP HIRING INDIA PRIVA...</td>\n",
       "      <td>Gurgaon/Gurugram, Delhi / NCR</td>\n",
       "      <td>Bangalore/Bengaluru, Delhi / NCR, Mumbai (All ...</td>\n",
       "    </tr>\n",
       "    <tr>\n",
       "      <th>6</th>\n",
       "      <td>Data Scientist - Noida</td>\n",
       "      <td>Optum Global Solutions (India) Private Limited</td>\n",
       "      <td>Noida</td>\n",
       "      <td>3-7 Yrs</td>\n",
       "    </tr>\n",
       "    <tr>\n",
       "      <th>7</th>\n",
       "      <td>Data Scientist - Noida/ B'lore</td>\n",
       "      <td>NEC CORPORATION INDIA PRIVATE LIMITED</td>\n",
       "      <td>Noida, Bangalore/Bengaluru</td>\n",
       "      <td>50,000 - 3,00,000 PA.</td>\n",
       "    </tr>\n",
       "    <tr>\n",
       "      <th>8</th>\n",
       "      <td>Data Scientist</td>\n",
       "      <td>IBM India Pvt. Limited</td>\n",
       "      <td>Noida, Hyderabad/Secunderabad, Bangalore/Benga...</td>\n",
       "      <td>Noida, Bangalore/Bengaluru</td>\n",
       "    </tr>\n",
       "    <tr>\n",
       "      <th>9</th>\n",
       "      <td>Data Scientist</td>\n",
       "      <td>Cloudstrats Technologies Private Limited</td>\n",
       "      <td>Bangalore/Bengaluru, Delhi / NCR, Mumbai (All ...</td>\n",
       "      <td>3-5 Yrs</td>\n",
       "    </tr>\n",
       "  </tbody>\n",
       "</table>\n",
       "</div>"
      ],
      "text/plain": [
       "                                           Job Title  \\\n",
       "0    Data Scientist / Data Analyst -Business Analyst   \n",
       "1  Data Scientist - High growth VC backed Influen...   \n",
       "2           Excellent opportunity For Data Scientist   \n",
       "3                                     Data Scientist   \n",
       "4           DATA Scientist – Gurgaon (Exp 3-6 years)   \n",
       "5           DATA Scientist – Gurgaon (Exp 3-6 years)   \n",
       "6                             Data Scientist - Noida   \n",
       "7                     Data Scientist - Noida/ B'lore   \n",
       "8                                     Data Scientist   \n",
       "9                                     Data Scientist   \n",
       "\n",
       "                                        Company Name  \\\n",
       "0                 Inflexion Analytix Private Limited   \n",
       "1                    Ravgins International Pvt. Ltd.   \n",
       "2              NEC CORPORATION INDIA PRIVATE LIMITED   \n",
       "3                                           Mobikwik   \n",
       "4  CRESCENDO GLOBAL LEADERSHIP HIRING INDIA PRIVA...   \n",
       "5  CRESCENDO GLOBAL LEADERSHIP HIRING INDIA PRIVA...   \n",
       "6     Optum Global Solutions (India) Private Limited   \n",
       "7              NEC CORPORATION INDIA PRIVATE LIMITED   \n",
       "8                             IBM India Pvt. Limited   \n",
       "9           Cloudstrats Technologies Private Limited   \n",
       "\n",
       "                                        Job Location  \\\n",
       "0  Mumbai, Hyderabad/Secunderabad, Pune, Gurgaon/...   \n",
       "1  Bangalore/Bengaluru, Delhi / NCR, Mumbai (All ...   \n",
       "2                         Noida, Bangalore/Bengaluru   \n",
       "3           New Delhi, Gurgaon/Gurugram, Delhi / NCR   \n",
       "4                      Gurgaon/Gurugram, Delhi / NCR   \n",
       "5                      Gurgaon/Gurugram, Delhi / NCR   \n",
       "6                                              Noida   \n",
       "7                         Noida, Bangalore/Bengaluru   \n",
       "8  Noida, Hyderabad/Secunderabad, Bangalore/Benga...   \n",
       "9  Bangalore/Bengaluru, Delhi / NCR, Mumbai (All ...   \n",
       "\n",
       "                                          Experience  \n",
       "0                                            0-3 Yrs  \n",
       "1                            3,50,000 - 4,50,000 PA.  \n",
       "2  Mumbai, Hyderabad/Secunderabad, Pune, Gurgaon/...  \n",
       "3                                            3-5 Yrs  \n",
       "4                            5,00,000 - 6,00,000 PA.  \n",
       "5  Bangalore/Bengaluru, Delhi / NCR, Mumbai (All ...  \n",
       "6                                            3-7 Yrs  \n",
       "7                              50,000 - 3,00,000 PA.  \n",
       "8                         Noida, Bangalore/Bengaluru  \n",
       "9                                            3-5 Yrs  "
      ]
     },
     "execution_count": 83,
     "metadata": {},
     "output_type": "execute_result"
    }
   ],
   "source": [
    "jobs"
   ]
  },
  {
   "cell_type": "markdown",
   "metadata": {},
   "source": [
    "# Q4: Write a python program to scrape data for first 10 job results for Data scientist Designation in Noida location. You have to scrape company_name, No. of days ago when job was posted, Rating of the company. And, from the webpage https://www.glassdoor.co.in/index.htm"
   ]
  },
  {
   "cell_type": "code",
   "execution_count": 42,
   "metadata": {},
   "outputs": [],
   "source": [
    "driver = webdriver.Chrome('chromedriver.exe')\n",
    "url=(\"https://www.glassdoor.co.in/index.htm\")\n",
    "driver.get(url)"
   ]
  },
  {
   "cell_type": "code",
   "execution_count": 44,
   "metadata": {},
   "outputs": [],
   "source": [
    "#If we go to the glassdoor page we can see that, to navigate into the page we have to login first.So, just click on the sign-in button for logining.\n",
    "\n",
    "driver.find_element_by_xpath('//button[@class=\"d-flex align-items-center justify-content-center order-1 order-md-2 mr-auto mr-md-0 p-0 LockedHomeHeaderStyles__signInButton\"]').click()"
   ]
  },
  {
   "cell_type": "code",
   "execution_count": 36,
   "metadata": {},
   "outputs": [],
   "source": [
    "#Note- here we are doing manually log in as discussed in the today's class, but we can also do this by creating new account with .click() function."
   ]
  },
  {
   "cell_type": "code",
   "execution_count": 37,
   "metadata": {},
   "outputs": [],
   "source": [
    "#extracting company name-\n",
    "\n",
    "#from selenium.common.exceptions import ElementNotInteractableException\n",
    "#try:\n",
    "    #comp_name = driver.find_element_by_id(\"SearchForm\")\n",
    "    #comp_name.send_keys(\"Data Scientist\")\n",
    "    \n",
    "#except ElementNotInteractableException as e:\n",
    "    #print(\"Exception Raised: \", e)\n",
    "    #cn = driver.find_element_by_xpath(\"//input[@class='css-1etjok6]\")\n",
    "    #cn.send_keys(\"Data Scientist\")"
   ]
  },
  {
   "cell_type": "code",
   "execution_count": 45,
   "metadata": {},
   "outputs": [],
   "source": [
    "#Finding the fields from the search bars of job and location.\n",
    "\n",
    "job_search=driver.find_element_by_id('sc.keyword')\n",
    "location_search=driver.find_element_by_id('sc.location')"
   ]
  },
  {
   "cell_type": "code",
   "execution_count": 46,
   "metadata": {},
   "outputs": [],
   "source": [
    "#we want to search for data scientist position at noida location\n",
    "\n",
    "job_search.send_keys(\"Data Scientist\")\n",
    "location_search.send_keys(\"Noida\")"
   ]
  },
  {
   "cell_type": "code",
   "execution_count": 47,
   "metadata": {},
   "outputs": [],
   "source": [
    "#using the search button and clicking it\n",
    "\n",
    "driver.find_element_by_xpath(\"//button[@class='gd-ui-button ml-std col-auto SearchStyles__newSearchButton css-iixdfr']\").click()"
   ]
  },
  {
   "cell_type": "code",
   "execution_count": 48,
   "metadata": {},
   "outputs": [],
   "source": [
    "#url of the webpage to be scraped from the data-\n",
    "\n",
    "\n",
    "url=\"https://www.glassdoor.co.in/Job/noida-data-scientist-jobs-SRCH_IL.0,5_IC4477468_KO6,20.htm\"\n",
    "driver.get(url)"
   ]
  },
  {
   "cell_type": "code",
   "execution_count": 49,
   "metadata": {},
   "outputs": [
    {
     "data": {
      "text/plain": [
       "['Bechtel',\n",
       " 'MasterCard',\n",
       " 'Mansha Solutions',\n",
       " 'Ericsson',\n",
       " 'Lantern Digital Services',\n",
       " 'Biz2Credit Inc',\n",
       " 'Sparkbpl',\n",
       " 'Boston Consulting Group',\n",
       " 'Priority Vendor',\n",
       " 'Skyjobs hr services',\n",
       " 'Gauge Data Solutions',\n",
       " 'SearchUrCollege',\n",
       " 'Techlive',\n",
       " 'WishFin',\n",
       " 'Webhelp',\n",
       " 'xtLytics',\n",
       " 'Salasar New Age Technologies',\n",
       " 'Siemens Technology and Services Private Limited',\n",
       " 'Ank Aha',\n",
       " 'Mahajan Imaging',\n",
       " 'Fitfyles',\n",
       " 'Sentieo',\n",
       " 'Profisor Services',\n",
       " 'EnglishHelper',\n",
       " 'Analytics Vidhya',\n",
       " 'ESRI, Inc.',\n",
       " 'Team Computers',\n",
       " 'Nihilent',\n",
       " 'Knoldus Inc',\n",
       " 'Axslogic',\n",
       " 'Innovacer']"
      ]
     },
     "execution_count": 49,
     "metadata": {},
     "output_type": "execute_result"
    }
   ],
   "source": [
    "#extracting the company name-\n",
    "\n",
    "name=[]\n",
    "comp_name=driver.find_elements_by_xpath(\"//div[@class='d-flex justify-content-between align-items-start']/a/span\")\n",
    "for i in comp_name:\n",
    "    name.append(i.text)\n",
    "name"
   ]
  },
  {
   "cell_type": "code",
   "execution_count": 50,
   "metadata": {},
   "outputs": [
    {
     "data": {
      "text/plain": [
       "['13d',\n",
       " '19d',\n",
       " '6d',\n",
       " '11d',\n",
       " '4d',\n",
       " '19d',\n",
       " '10d',\n",
       " '25d',\n",
       " '10d',\n",
       " '3d',\n",
       " '10d',\n",
       " '10d',\n",
       " '17d',\n",
       " '21d',\n",
       " '3d',\n",
       " '25d',\n",
       " '22d',\n",
       " '26d',\n",
       " '10d',\n",
       " '10d',\n",
       " '10d',\n",
       " '12d',\n",
       " '10d',\n",
       " '5d',\n",
       " '10d',\n",
       " '19d',\n",
       " '26d',\n",
       " '19d',\n",
       " '9d',\n",
       " '8d',\n",
       " '2d']"
      ]
     },
     "execution_count": 50,
     "metadata": {},
     "output_type": "execute_result"
    }
   ],
   "source": [
    "#extracting the days before job published-\n",
    "\n",
    "date=[]\n",
    "pub_date=driver.find_elements_by_xpath(\"//div[@class='d-flex align-items-end pl-std css-mi55ob']\")\n",
    "for i in pub_date:\n",
    "    date.append(i.text)\n",
    "date"
   ]
  },
  {
   "cell_type": "code",
   "execution_count": 58,
   "metadata": {},
   "outputs": [
    {
     "data": {
      "text/plain": [
       "['4.0',\n",
       " '3.1',\n",
       " '5.0',\n",
       " '4.1',\n",
       " '3.8',\n",
       " '3.7',\n",
       " '3.8',\n",
       " '4.0',\n",
       " '4.1',\n",
       " '4.0',\n",
       " '4.5',\n",
       " '3.9',\n",
       " '4.1',\n",
       " '2.3',\n",
       " '3.6',\n",
       " '4.1']"
      ]
     },
     "execution_count": 58,
     "metadata": {},
     "output_type": "execute_result"
    }
   ],
   "source": [
    "#extracting the rating of the company-\n",
    "\n",
    "rating=[]\n",
    "rate=driver.find_elements_by_xpath(\"//span[@class='css-19pjha7 e1cjmv6j1']\")\n",
    "for i in rate:\n",
    "    rating.append(i.text)\n",
    "rating"
   ]
  },
  {
   "cell_type": "code",
   "execution_count": 59,
   "metadata": {},
   "outputs": [
    {
     "name": "stdout",
     "output_type": "stream",
     "text": [
      "31 31 16\n"
     ]
    }
   ],
   "source": [
    "print(len(name),len(date),len(rating))"
   ]
  },
  {
   "cell_type": "code",
   "execution_count": 61,
   "metadata": {},
   "outputs": [],
   "source": [
    "#Creating a  dataframe for our data\n",
    "jobs=pd.DataFrame({})\n",
    "jobs['Company name']=name[:10]\n",
    "jobs['Days posted before']=date[:10]\n",
    "jobs['Rating of the Organization']=rating[:10]"
   ]
  },
  {
   "cell_type": "code",
   "execution_count": 62,
   "metadata": {},
   "outputs": [
    {
     "data": {
      "text/html": [
       "<div>\n",
       "<style scoped>\n",
       "    .dataframe tbody tr th:only-of-type {\n",
       "        vertical-align: middle;\n",
       "    }\n",
       "\n",
       "    .dataframe tbody tr th {\n",
       "        vertical-align: top;\n",
       "    }\n",
       "\n",
       "    .dataframe thead th {\n",
       "        text-align: right;\n",
       "    }\n",
       "</style>\n",
       "<table border=\"1\" class=\"dataframe\">\n",
       "  <thead>\n",
       "    <tr style=\"text-align: right;\">\n",
       "      <th></th>\n",
       "      <th>Company name</th>\n",
       "      <th>Days posted before</th>\n",
       "      <th>Rating of the Organization</th>\n",
       "    </tr>\n",
       "  </thead>\n",
       "  <tbody>\n",
       "    <tr>\n",
       "      <th>0</th>\n",
       "      <td>Bechtel</td>\n",
       "      <td>13d</td>\n",
       "      <td>4.0</td>\n",
       "    </tr>\n",
       "    <tr>\n",
       "      <th>1</th>\n",
       "      <td>MasterCard</td>\n",
       "      <td>19d</td>\n",
       "      <td>3.1</td>\n",
       "    </tr>\n",
       "    <tr>\n",
       "      <th>2</th>\n",
       "      <td>Mansha Solutions</td>\n",
       "      <td>6d</td>\n",
       "      <td>5.0</td>\n",
       "    </tr>\n",
       "    <tr>\n",
       "      <th>3</th>\n",
       "      <td>Ericsson</td>\n",
       "      <td>11d</td>\n",
       "      <td>4.1</td>\n",
       "    </tr>\n",
       "    <tr>\n",
       "      <th>4</th>\n",
       "      <td>Lantern Digital Services</td>\n",
       "      <td>4d</td>\n",
       "      <td>3.8</td>\n",
       "    </tr>\n",
       "    <tr>\n",
       "      <th>5</th>\n",
       "      <td>Biz2Credit Inc</td>\n",
       "      <td>19d</td>\n",
       "      <td>3.7</td>\n",
       "    </tr>\n",
       "    <tr>\n",
       "      <th>6</th>\n",
       "      <td>Sparkbpl</td>\n",
       "      <td>10d</td>\n",
       "      <td>3.8</td>\n",
       "    </tr>\n",
       "    <tr>\n",
       "      <th>7</th>\n",
       "      <td>Boston Consulting Group</td>\n",
       "      <td>25d</td>\n",
       "      <td>4.0</td>\n",
       "    </tr>\n",
       "    <tr>\n",
       "      <th>8</th>\n",
       "      <td>Priority Vendor</td>\n",
       "      <td>10d</td>\n",
       "      <td>4.1</td>\n",
       "    </tr>\n",
       "    <tr>\n",
       "      <th>9</th>\n",
       "      <td>Skyjobs hr services</td>\n",
       "      <td>3d</td>\n",
       "      <td>4.0</td>\n",
       "    </tr>\n",
       "  </tbody>\n",
       "</table>\n",
       "</div>"
      ],
      "text/plain": [
       "               Company name Days posted before Rating of the Organization\n",
       "0                   Bechtel                13d                        4.0\n",
       "1                MasterCard                19d                        3.1\n",
       "2          Mansha Solutions                 6d                        5.0\n",
       "3                  Ericsson                11d                        4.1\n",
       "4  Lantern Digital Services                 4d                        3.8\n",
       "5            Biz2Credit Inc                19d                        3.7\n",
       "6                  Sparkbpl                10d                        3.8\n",
       "7   Boston Consulting Group                25d                        4.0\n",
       "8           Priority Vendor                10d                        4.1\n",
       "9       Skyjobs hr services                 3d                        4.0"
      ]
     },
     "execution_count": 62,
     "metadata": {},
     "output_type": "execute_result"
    }
   ],
   "source": [
    "jobs"
   ]
  },
  {
   "cell_type": "markdown",
   "metadata": {},
   "source": [
    "# Q5: Write a python program to scrape the salary data for Data Scientist designation in Noida location.We have to scrape Company name, Number of salaries, Average salary, Min salary, Max Salary. And, this is we have to do from the webpage- https://www.glassdoor.co.in/Salaries/index.htm"
   ]
  },
  {
   "cell_type": "code",
   "execution_count": 63,
   "metadata": {},
   "outputs": [],
   "source": [
    "driver = webdriver.Chrome('chromedriver.exe')\n",
    "url=(\"https://www.glassdoor.co.in/index.htm\")\n",
    "driver.get(url)"
   ]
  },
  {
   "cell_type": "code",
   "execution_count": 64,
   "metadata": {},
   "outputs": [],
   "source": [
    "#Finding the fields from the search bars of job and location.\n",
    "\n",
    "job_search=driver.find_element_by_id('scKeyword')\n",
    "location_search=driver.find_element_by_id('scLocation')"
   ]
  },
  {
   "cell_type": "code",
   "execution_count": 65,
   "metadata": {},
   "outputs": [],
   "source": [
    "#we want to search for data scientist position at noida location\n",
    "\n",
    "job_search.send_keys(\"Data Scientist\")\n",
    "location_search.send_keys(\"Noida\")"
   ]
  },
  {
   "cell_type": "code",
   "execution_count": 68,
   "metadata": {},
   "outputs": [],
   "source": [
    "#using the search button and clicking it\n",
    "\n",
    "driver.find_element_by_xpath(\"//button[@class='gd-ui-button ml-std col-auto SearchStyles__newSearchButton css-iixdfr']\").click()"
   ]
  },
  {
   "cell_type": "code",
   "execution_count": 69,
   "metadata": {},
   "outputs": [],
   "source": [
    "URL=\"https://www.glassdoor.co.in/Salaries/new-delhi-data-scientist-salary-SRCH_IL.0,9_IM1083_KO10,24.htm?clickSource=searchBtn\"\n",
    "driver.get(URL)"
   ]
  },
  {
   "cell_type": "code",
   "execution_count": 72,
   "metadata": {},
   "outputs": [
    {
     "data": {
      "text/plain": [
       "['Tata Consultancy Services',\n",
       " 'Accenture',\n",
       " 'IBM',\n",
       " 'Ericsson-Worldwide',\n",
       " 'Delhivery',\n",
       " 'UnitedHealth Group',\n",
       " 'Valiance Solutions',\n",
       " 'ZS Associates',\n",
       " 'EXL Service',\n",
       " 'Optum Global Solutions']"
      ]
     },
     "execution_count": 72,
     "metadata": {},
     "output_type": "execute_result"
    }
   ],
   "source": [
    "#extracting the company name-\n",
    "\n",
    "name=[]\n",
    "comp_name=driver.find_elements_by_xpath(\"//div[@class='d-flex']/div[2]/p[2]\")\n",
    "for i in comp_name:\n",
    "    name.append(i.text)\n",
    "name[:10]"
   ]
  },
  {
   "cell_type": "code",
   "execution_count": 73,
   "metadata": {},
   "outputs": [
    {
     "data": {
      "text/plain": [
       "['₹ 6,11,228\\n/yr',\n",
       " '₹ 11,46,533\\n/yr',\n",
       " '₹ 8,97,795\\n/yr',\n",
       " '₹ 7,38,057\\n/yr',\n",
       " '₹ 12,39,781\\n/yr',\n",
       " '₹ 13,36,142\\n/yr',\n",
       " '₹ 8,15,192\\n/yr',\n",
       " '₹ 11,35,221\\n/yr',\n",
       " '₹ 11,44,243\\n/yr',\n",
       " '₹ 14,13,288\\n/yr']"
      ]
     },
     "execution_count": 73,
     "metadata": {},
     "output_type": "execute_result"
    }
   ],
   "source": [
    "#extracting the average salry-\n",
    "average=[]\n",
    "avg_sal=driver.find_elements_by_xpath(\"//div[@class='col-2 d-none d-md-flex flex-row justify-content-end']\")\n",
    "for i in avg_sal:\n",
    "    average.append(i.text)\n",
    "average[:10]"
   ]
  },
  {
   "cell_type": "code",
   "execution_count": 78,
   "metadata": {},
   "outputs": [
    {
     "data": {
      "text/plain": [
       "['₹343K',\n",
       " '₹577K',\n",
       " '₹586K',\n",
       " '₹355K',\n",
       " '₹450K',\n",
       " '₹1,069K',\n",
       " '₹502K',\n",
       " '₹202K',\n",
       " '₹575K',\n",
       " '₹1,014K']"
      ]
     },
     "execution_count": 78,
     "metadata": {},
     "output_type": "execute_result"
    }
   ],
   "source": [
    "#extracting the minimum salary-\n",
    "\n",
    "minimum=[]\n",
    "min_sal=driver.find_elements_by_xpath(\"//div[@class='col-3 offset-1 d-none d-md-block']/div/div[2]/span[1]\")\n",
    "for i in min_sal:\n",
    "    minimum.append(i.text)\n",
    "minimum[:10]"
   ]
  },
  {
   "cell_type": "code",
   "execution_count": 79,
   "metadata": {},
   "outputs": [
    {
     "data": {
      "text/plain": [
       "['₹1,095K',\n",
       " '₹2,213K',\n",
       " '₹2,730K',\n",
       " '₹1,613K',\n",
       " '₹11,622K',\n",
       " '₹1,520K',\n",
       " '₹1,465K',\n",
       " '₹1,809K',\n",
       " '₹1,520K',\n",
       " '₹2,149K']"
      ]
     },
     "execution_count": 79,
     "metadata": {},
     "output_type": "execute_result"
    }
   ],
   "source": [
    "#extracting the maximum salary-\n",
    "\n",
    "maximum=[]\n",
    "max_sal=driver.find_elements_by_xpath(\"//div[@class='col-3 offset-1 d-none d-md-block']/div/div[2]/span[2]\")\n",
    "for i in max_sal:\n",
    "    maximum.append(i.text)\n",
    "maximum[:10]"
   ]
  },
  {
   "cell_type": "code",
   "execution_count": 80,
   "metadata": {},
   "outputs": [],
   "source": [
    "rating=\"Not Available\""
   ]
  },
  {
   "cell_type": "code",
   "execution_count": 81,
   "metadata": {},
   "outputs": [
    {
     "name": "stdout",
     "output_type": "stream",
     "text": [
      "20 20 20 20\n"
     ]
    }
   ],
   "source": [
    "print(len(name),len(average),len(minimum),len(maximum))"
   ]
  },
  {
   "cell_type": "code",
   "execution_count": 82,
   "metadata": {},
   "outputs": [],
   "source": [
    "# Let's create a DataFrame for our data\n",
    "Salary=pd.DataFrame({})\n",
    "Salary['Company Name']=name[:10]\n",
    "Salary['Avgerage Salary']=average[:10]\n",
    "Salary['Minimum Salary']=minimum[:10]\n",
    "Salary['Maximum Salary']=maximum[:10]\n",
    "Salary['Rating of the organization']=rating[:10]"
   ]
  },
  {
   "cell_type": "code",
   "execution_count": 83,
   "metadata": {},
   "outputs": [
    {
     "data": {
      "text/html": [
       "<div>\n",
       "<style scoped>\n",
       "    .dataframe tbody tr th:only-of-type {\n",
       "        vertical-align: middle;\n",
       "    }\n",
       "\n",
       "    .dataframe tbody tr th {\n",
       "        vertical-align: top;\n",
       "    }\n",
       "\n",
       "    .dataframe thead th {\n",
       "        text-align: right;\n",
       "    }\n",
       "</style>\n",
       "<table border=\"1\" class=\"dataframe\">\n",
       "  <thead>\n",
       "    <tr style=\"text-align: right;\">\n",
       "      <th></th>\n",
       "      <th>Company Name</th>\n",
       "      <th>Avgerage Salary</th>\n",
       "      <th>Minimum Salary</th>\n",
       "      <th>Maximum Salary</th>\n",
       "      <th>Rating of the organization</th>\n",
       "    </tr>\n",
       "  </thead>\n",
       "  <tbody>\n",
       "    <tr>\n",
       "      <th>0</th>\n",
       "      <td>Tata Consultancy Services</td>\n",
       "      <td>₹ 6,11,228\\n/yr</td>\n",
       "      <td>₹343K</td>\n",
       "      <td>₹1,095K</td>\n",
       "      <td>Not Availa</td>\n",
       "    </tr>\n",
       "    <tr>\n",
       "      <th>1</th>\n",
       "      <td>Accenture</td>\n",
       "      <td>₹ 11,46,533\\n/yr</td>\n",
       "      <td>₹577K</td>\n",
       "      <td>₹2,213K</td>\n",
       "      <td>Not Availa</td>\n",
       "    </tr>\n",
       "    <tr>\n",
       "      <th>2</th>\n",
       "      <td>IBM</td>\n",
       "      <td>₹ 8,97,795\\n/yr</td>\n",
       "      <td>₹586K</td>\n",
       "      <td>₹2,730K</td>\n",
       "      <td>Not Availa</td>\n",
       "    </tr>\n",
       "    <tr>\n",
       "      <th>3</th>\n",
       "      <td>Ericsson-Worldwide</td>\n",
       "      <td>₹ 7,38,057\\n/yr</td>\n",
       "      <td>₹355K</td>\n",
       "      <td>₹1,613K</td>\n",
       "      <td>Not Availa</td>\n",
       "    </tr>\n",
       "    <tr>\n",
       "      <th>4</th>\n",
       "      <td>Delhivery</td>\n",
       "      <td>₹ 12,39,781\\n/yr</td>\n",
       "      <td>₹450K</td>\n",
       "      <td>₹11,622K</td>\n",
       "      <td>Not Availa</td>\n",
       "    </tr>\n",
       "    <tr>\n",
       "      <th>5</th>\n",
       "      <td>UnitedHealth Group</td>\n",
       "      <td>₹ 13,36,142\\n/yr</td>\n",
       "      <td>₹1,069K</td>\n",
       "      <td>₹1,520K</td>\n",
       "      <td>Not Availa</td>\n",
       "    </tr>\n",
       "    <tr>\n",
       "      <th>6</th>\n",
       "      <td>Valiance Solutions</td>\n",
       "      <td>₹ 8,15,192\\n/yr</td>\n",
       "      <td>₹502K</td>\n",
       "      <td>₹1,465K</td>\n",
       "      <td>Not Availa</td>\n",
       "    </tr>\n",
       "    <tr>\n",
       "      <th>7</th>\n",
       "      <td>ZS Associates</td>\n",
       "      <td>₹ 11,35,221\\n/yr</td>\n",
       "      <td>₹202K</td>\n",
       "      <td>₹1,809K</td>\n",
       "      <td>Not Availa</td>\n",
       "    </tr>\n",
       "    <tr>\n",
       "      <th>8</th>\n",
       "      <td>EXL Service</td>\n",
       "      <td>₹ 11,44,243\\n/yr</td>\n",
       "      <td>₹575K</td>\n",
       "      <td>₹1,520K</td>\n",
       "      <td>Not Availa</td>\n",
       "    </tr>\n",
       "    <tr>\n",
       "      <th>9</th>\n",
       "      <td>Optum Global Solutions</td>\n",
       "      <td>₹ 14,13,288\\n/yr</td>\n",
       "      <td>₹1,014K</td>\n",
       "      <td>₹2,149K</td>\n",
       "      <td>Not Availa</td>\n",
       "    </tr>\n",
       "  </tbody>\n",
       "</table>\n",
       "</div>"
      ],
      "text/plain": [
       "                Company Name   Avgerage Salary Minimum Salary Maximum Salary  \\\n",
       "0  Tata Consultancy Services   ₹ 6,11,228\\n/yr          ₹343K        ₹1,095K   \n",
       "1                  Accenture  ₹ 11,46,533\\n/yr          ₹577K        ₹2,213K   \n",
       "2                        IBM   ₹ 8,97,795\\n/yr          ₹586K        ₹2,730K   \n",
       "3         Ericsson-Worldwide   ₹ 7,38,057\\n/yr          ₹355K        ₹1,613K   \n",
       "4                  Delhivery  ₹ 12,39,781\\n/yr          ₹450K       ₹11,622K   \n",
       "5         UnitedHealth Group  ₹ 13,36,142\\n/yr        ₹1,069K        ₹1,520K   \n",
       "6         Valiance Solutions   ₹ 8,15,192\\n/yr          ₹502K        ₹1,465K   \n",
       "7              ZS Associates  ₹ 11,35,221\\n/yr          ₹202K        ₹1,809K   \n",
       "8                EXL Service  ₹ 11,44,243\\n/yr          ₹575K        ₹1,520K   \n",
       "9     Optum Global Solutions  ₹ 14,13,288\\n/yr        ₹1,014K        ₹2,149K   \n",
       "\n",
       "  Rating of the organization  \n",
       "0                 Not Availa  \n",
       "1                 Not Availa  \n",
       "2                 Not Availa  \n",
       "3                 Not Availa  \n",
       "4                 Not Availa  \n",
       "5                 Not Availa  \n",
       "6                 Not Availa  \n",
       "7                 Not Availa  \n",
       "8                 Not Availa  \n",
       "9                 Not Availa  "
      ]
     },
     "execution_count": 83,
     "metadata": {},
     "output_type": "execute_result"
    }
   ],
   "source": [
    "Salary"
   ]
  },
  {
   "cell_type": "markdown",
   "metadata": {},
   "source": [
    "# Q6 : Scrape data of first 100 sunglasses listings on flipkart.com. We have to scrape four attributes:1. Brand, 2. Product Description, 3. Price, 4. Discount %"
   ]
  },
  {
   "cell_type": "code",
   "execution_count": 84,
   "metadata": {},
   "outputs": [],
   "source": [
    "driver = webdriver.Chrome('chromedriver.exe')\n",
    "url=(\"https://www.flipkart.com/\")\n",
    "driver.get(url)\n",
    "driver.implicitly_wait(10)"
   ]
  },
  {
   "cell_type": "code",
   "execution_count": 86,
   "metadata": {},
   "outputs": [],
   "source": [
    "driver.find_element_by_xpath('//input[@title=\"Search for products, brands and more\"]').send_keys('sunglasses')\n",
    "driver.find_element_by_xpath('//button[@type=\"submit\"]').click()\n",
    "time.sleep(3)"
   ]
  },
  {
   "cell_type": "code",
   "execution_count": 89,
   "metadata": {},
   "outputs": [],
   "source": [
    "#creating 4 empty list for storing our specific data's-\n",
    "brand=[]\n",
    "description=[]\n",
    "price=[]\n",
    "discount=[]"
   ]
  },
  {
   "cell_type": "code",
   "execution_count": 93,
   "metadata": {},
   "outputs": [],
   "source": [
    "#scrape the whole data-\n",
    "\n",
    "i=0\n",
    "while i<3:\n",
    "    time.sleep(5)\n",
    "    company=driver.find_elements_by_xpath('//div[@class=\"_2WkVRV\"]')\n",
    "    for j in company:\n",
    "        brand.append(j.text)\n",
    "        \n",
    "    dscrptn=driver.find_elements_by_xpath('//a[contains(@class,\"IRpwTa\")]')\n",
    "    for k in dscrptn:\n",
    "        description.append(k.text)\n",
    "        \n",
    "    prc=driver.find_elements_by_xpath('//div[@class=\"_30jeq3\"]')\n",
    "    for z in prc:\n",
    "        price.append(z.text)\n",
    "        \n",
    "    dscnt=driver.find_elements_by_xpath('//div[@class=\"_3Ay6Sb\"]')\n",
    "    for x in dscnt:\n",
    "        discount.append(x.text)\n",
    "    \n",
    "    \n",
    "    if i==0:\n",
    "        driver.find_element_by_xpath('//a[@class=\"_1LKTO3\"]').click()\n",
    "    elif i==1:\n",
    "        driver.find_element_by_xpath('//nav[@class=\"yFHi8N\"]/a[12]').click()\n",
    "    else:\n",
    "        pass\n",
    "    i=i+1"
   ]
  },
  {
   "cell_type": "code",
   "execution_count": 94,
   "metadata": {},
   "outputs": [],
   "source": [
    "#creating a DataFrame for our data\n",
    "Sunglasses=pd.DataFrame({})\n",
    "Sunglasses['Brand-Name']=brand[:100]\n",
    "Sunglasses['Description of product']=description[:100]\n",
    "Sunglasses['Amount']=price[:100]\n",
    "Sunglasses['Discount on product']=discount[:100]"
   ]
  },
  {
   "cell_type": "code",
   "execution_count": 95,
   "metadata": {},
   "outputs": [
    {
     "data": {
      "text/html": [
       "<div>\n",
       "<style scoped>\n",
       "    .dataframe tbody tr th:only-of-type {\n",
       "        vertical-align: middle;\n",
       "    }\n",
       "\n",
       "    .dataframe tbody tr th {\n",
       "        vertical-align: top;\n",
       "    }\n",
       "\n",
       "    .dataframe thead th {\n",
       "        text-align: right;\n",
       "    }\n",
       "</style>\n",
       "<table border=\"1\" class=\"dataframe\">\n",
       "  <thead>\n",
       "    <tr style=\"text-align: right;\">\n",
       "      <th></th>\n",
       "      <th>Brand-Name</th>\n",
       "      <th>Description of product</th>\n",
       "      <th>Amount</th>\n",
       "      <th>Discount on product</th>\n",
       "    </tr>\n",
       "  </thead>\n",
       "  <tbody>\n",
       "    <tr>\n",
       "      <th>0</th>\n",
       "      <td>SUNBEE</td>\n",
       "      <td>UV Protection, Polarized, Mirrored Round Sungl...</td>\n",
       "      <td>₹331</td>\n",
       "      <td>80% off</td>\n",
       "    </tr>\n",
       "    <tr>\n",
       "      <th>1</th>\n",
       "      <td>bulgaria</td>\n",
       "      <td>Others Rectangular Sunglasses (Free Size)</td>\n",
       "      <td>₹399</td>\n",
       "      <td>42% off</td>\n",
       "    </tr>\n",
       "    <tr>\n",
       "      <th>2</th>\n",
       "      <td>Fastrack</td>\n",
       "      <td>UV Protection Wayfarer Sunglasses (Free Size)</td>\n",
       "      <td>₹758</td>\n",
       "      <td>15% off</td>\n",
       "    </tr>\n",
       "    <tr>\n",
       "      <th>3</th>\n",
       "      <td>Fastrack</td>\n",
       "      <td>UV Protection Rectangular Sunglasses (Free Size)</td>\n",
       "      <td>₹630</td>\n",
       "      <td>21% off</td>\n",
       "    </tr>\n",
       "    <tr>\n",
       "      <th>4</th>\n",
       "      <td>ROZZETTA CRAFT</td>\n",
       "      <td>UV Protection Retro Square Sunglasses (Free Size)</td>\n",
       "      <td>₹499</td>\n",
       "      <td>77% off</td>\n",
       "    </tr>\n",
       "    <tr>\n",
       "      <th>...</th>\n",
       "      <td>...</td>\n",
       "      <td>...</td>\n",
       "      <td>...</td>\n",
       "      <td>...</td>\n",
       "    </tr>\n",
       "    <tr>\n",
       "      <th>95</th>\n",
       "      <td>DEIXELS</td>\n",
       "      <td>UV Protection Round Sunglasses (Free Size)</td>\n",
       "      <td>₹209</td>\n",
       "      <td>73% off</td>\n",
       "    </tr>\n",
       "    <tr>\n",
       "      <th>96</th>\n",
       "      <td>Singco India</td>\n",
       "      <td>UV Protection Aviator Sunglasses (Free Size)</td>\n",
       "      <td>₹339</td>\n",
       "      <td>71% off</td>\n",
       "    </tr>\n",
       "    <tr>\n",
       "      <th>97</th>\n",
       "      <td>Villain</td>\n",
       "      <td>Others Retro Square Sunglasses (Free Size)</td>\n",
       "      <td>₹599</td>\n",
       "      <td>20% off</td>\n",
       "    </tr>\n",
       "    <tr>\n",
       "      <th>98</th>\n",
       "      <td>Fastrack</td>\n",
       "      <td>UV Protection Wayfarer Sunglasses (56)</td>\n",
       "      <td>₹759</td>\n",
       "      <td>15% off</td>\n",
       "    </tr>\n",
       "    <tr>\n",
       "      <th>99</th>\n",
       "      <td>like future</td>\n",
       "      <td>UV Protection, Polarized, Gradient, Mirrored W...</td>\n",
       "      <td>₹284</td>\n",
       "      <td>71% off</td>\n",
       "    </tr>\n",
       "  </tbody>\n",
       "</table>\n",
       "<p>100 rows × 4 columns</p>\n",
       "</div>"
      ],
      "text/plain": [
       "        Brand-Name                             Description of product Amount  \\\n",
       "0           SUNBEE  UV Protection, Polarized, Mirrored Round Sungl...   ₹331   \n",
       "1         bulgaria          Others Rectangular Sunglasses (Free Size)   ₹399   \n",
       "2         Fastrack      UV Protection Wayfarer Sunglasses (Free Size)   ₹758   \n",
       "3         Fastrack   UV Protection Rectangular Sunglasses (Free Size)   ₹630   \n",
       "4   ROZZETTA CRAFT  UV Protection Retro Square Sunglasses (Free Size)   ₹499   \n",
       "..             ...                                                ...    ...   \n",
       "95         DEIXELS         UV Protection Round Sunglasses (Free Size)   ₹209   \n",
       "96    Singco India       UV Protection Aviator Sunglasses (Free Size)   ₹339   \n",
       "97         Villain         Others Retro Square Sunglasses (Free Size)   ₹599   \n",
       "98        Fastrack             UV Protection Wayfarer Sunglasses (56)   ₹759   \n",
       "99     like future  UV Protection, Polarized, Gradient, Mirrored W...   ₹284   \n",
       "\n",
       "   Discount on product  \n",
       "0              80% off  \n",
       "1              42% off  \n",
       "2              15% off  \n",
       "3              21% off  \n",
       "4              77% off  \n",
       "..                 ...  \n",
       "95             73% off  \n",
       "96             71% off  \n",
       "97             20% off  \n",
       "98             15% off  \n",
       "99             71% off  \n",
       "\n",
       "[100 rows x 4 columns]"
      ]
     },
     "execution_count": 95,
     "metadata": {},
     "output_type": "execute_result"
    }
   ],
   "source": [
    "Sunglasses"
   ]
  },
  {
   "cell_type": "code",
   "execution_count": 96,
   "metadata": {},
   "outputs": [
    {
     "data": {
      "text/html": [
       "<div>\n",
       "<style scoped>\n",
       "    .dataframe tbody tr th:only-of-type {\n",
       "        vertical-align: middle;\n",
       "    }\n",
       "\n",
       "    .dataframe tbody tr th {\n",
       "        vertical-align: top;\n",
       "    }\n",
       "\n",
       "    .dataframe thead th {\n",
       "        text-align: right;\n",
       "    }\n",
       "</style>\n",
       "<table border=\"1\" class=\"dataframe\">\n",
       "  <thead>\n",
       "    <tr style=\"text-align: right;\">\n",
       "      <th></th>\n",
       "      <th>Brand-Name</th>\n",
       "      <th>Description of product</th>\n",
       "      <th>Amount</th>\n",
       "      <th>Discount on product</th>\n",
       "    </tr>\n",
       "  </thead>\n",
       "  <tbody>\n",
       "    <tr>\n",
       "      <th>50</th>\n",
       "      <td>ROZZETTA CRAFT</td>\n",
       "      <td>UV Protection, Riding Glasses Rectangular Sung...</td>\n",
       "      <td>₹449</td>\n",
       "      <td>79% off</td>\n",
       "    </tr>\n",
       "    <tr>\n",
       "      <th>51</th>\n",
       "      <td>Fastrack</td>\n",
       "      <td>UV Protection Aviator Sunglasses (Free Size)</td>\n",
       "      <td>₹674</td>\n",
       "      <td>25% off</td>\n",
       "    </tr>\n",
       "    <tr>\n",
       "      <th>52</th>\n",
       "      <td>GANSTA</td>\n",
       "      <td>UV Protection Aviator Sunglasses (57)</td>\n",
       "      <td>₹281</td>\n",
       "      <td>85% off</td>\n",
       "    </tr>\n",
       "    <tr>\n",
       "      <th>53</th>\n",
       "      <td>hipe</td>\n",
       "      <td>Mirrored, UV Protection, Gradient Round Sungla...</td>\n",
       "      <td>₹210</td>\n",
       "      <td>85% off</td>\n",
       "    </tr>\n",
       "    <tr>\n",
       "      <th>54</th>\n",
       "      <td>HIPPON</td>\n",
       "      <td>UV Protection Wayfarer Sunglasses (55)</td>\n",
       "      <td>₹251</td>\n",
       "      <td>79% off</td>\n",
       "    </tr>\n",
       "    <tr>\n",
       "      <th>55</th>\n",
       "      <td>DEIXELS</td>\n",
       "      <td>UV Protection Round Sunglasses (Free Size)</td>\n",
       "      <td>₹209</td>\n",
       "      <td>73% off</td>\n",
       "    </tr>\n",
       "  </tbody>\n",
       "</table>\n",
       "</div>"
      ],
      "text/plain": [
       "        Brand-Name                             Description of product Amount  \\\n",
       "50  ROZZETTA CRAFT  UV Protection, Riding Glasses Rectangular Sung...   ₹449   \n",
       "51        Fastrack       UV Protection Aviator Sunglasses (Free Size)   ₹674   \n",
       "52          GANSTA              UV Protection Aviator Sunglasses (57)   ₹281   \n",
       "53            hipe  Mirrored, UV Protection, Gradient Round Sungla...   ₹210   \n",
       "54          HIPPON             UV Protection Wayfarer Sunglasses (55)   ₹251   \n",
       "55         DEIXELS         UV Protection Round Sunglasses (Free Size)   ₹209   \n",
       "\n",
       "   Discount on product  \n",
       "50             79% off  \n",
       "51             25% off  \n",
       "52             85% off  \n",
       "53             85% off  \n",
       "54             79% off  \n",
       "55             73% off  "
      ]
     },
     "execution_count": 96,
     "metadata": {},
     "output_type": "execute_result"
    }
   ],
   "source": [
    "Sunglasses[50:56]"
   ]
  },
  {
   "cell_type": "markdown",
   "metadata": {},
   "source": [
    "# Q7: Scrape 100 reviews data from flipkart.com for iphone11 phone. You have to go the link: https://www.flipkart.com/apple-iphone-11-black-64-gb-includes-earpods-power-adapter/p/itm0f37c2240b217?pid=MOBFKCTSVZAXUHGR&lid=LSTMOBFKCTSVZAXUHGREPBFGI&marketplace."
   ]
  },
  {
   "cell_type": "code",
   "execution_count": 97,
   "metadata": {},
   "outputs": [],
   "source": [
    "driver = webdriver.Chrome('chromedriver.exe')\n",
    "url=(\"https://www.flipkart.com/apple-iphone-11-black-64-gb-includes-earpods-power-adapter/product-reviews/itm0f37c2240b217?pid=MOBFKCTSVZAXUHGR&lid=LSTMOBFKCTSVZAXUHGR3QP11A&marketplace\")\n",
    "driver.get(url)\n",
    "time.sleep(5)"
   ]
  },
  {
   "cell_type": "code",
   "execution_count": 98,
   "metadata": {},
   "outputs": [],
   "source": [
    "#creating empty list for saving data-\n",
    "rating=[]\n",
    "review_summary=[]\n",
    "full_review=[]"
   ]
  },
  {
   "cell_type": "code",
   "execution_count": 99,
   "metadata": {},
   "outputs": [],
   "source": [
    "#scraping the data\n",
    "i=0\n",
    "while i<10:\n",
    "    rate=driver.find_elements_by_xpath('//div[@class=\"_3LWZlK _1BLPMq\"]')\n",
    "    for j in rate:\n",
    "        rating.append(j.text)\n",
    "        \n",
    "    rev=driver.find_elements_by_xpath('//p[@class=\"_2-N8zT\"]')\n",
    "    for k in rev:\n",
    "        review_summary.append(k.text)\n",
    "        \n",
    "    full_rev=driver.find_elements_by_xpath('//div[@class=\"t-ZTKy\"]')\n",
    "    for z in full_rev:\n",
    "        full_review.append(z.text)\n",
    "    \n",
    "    time.sleep(10)    \n",
    "        \n",
    "    driver.find_element_by_xpath('//a[@class=\"_1LKTO3\"]').click()\n",
    "    time.sleep(10)\n",
    "    i=i+1\n",
    "    time.sleep(10)"
   ]
  },
  {
   "cell_type": "code",
   "execution_count": 100,
   "metadata": {},
   "outputs": [],
   "source": [
    "# Let's create a DataFrame for our data\n",
    "IPHONE=pd.DataFrame({})\n",
    "IPHONE['Rating']=rating[:100]\n",
    "IPHONE['Review-Summary']=review_summary[:100]\n",
    "IPHONE['Full-Review']=full_review[:100]"
   ]
  },
  {
   "cell_type": "code",
   "execution_count": 101,
   "metadata": {},
   "outputs": [
    {
     "data": {
      "text/html": [
       "<div>\n",
       "<style scoped>\n",
       "    .dataframe tbody tr th:only-of-type {\n",
       "        vertical-align: middle;\n",
       "    }\n",
       "\n",
       "    .dataframe tbody tr th {\n",
       "        vertical-align: top;\n",
       "    }\n",
       "\n",
       "    .dataframe thead th {\n",
       "        text-align: right;\n",
       "    }\n",
       "</style>\n",
       "<table border=\"1\" class=\"dataframe\">\n",
       "  <thead>\n",
       "    <tr style=\"text-align: right;\">\n",
       "      <th></th>\n",
       "      <th>Rating</th>\n",
       "      <th>Review-Summary</th>\n",
       "      <th>Full-Review</th>\n",
       "    </tr>\n",
       "  </thead>\n",
       "  <tbody>\n",
       "    <tr>\n",
       "      <th>0</th>\n",
       "      <td>5</td>\n",
       "      <td>Brilliant</td>\n",
       "      <td>The Best Phone for the Money\\n\\nThe iPhone 11 ...</td>\n",
       "    </tr>\n",
       "    <tr>\n",
       "      <th>1</th>\n",
       "      <td>5</td>\n",
       "      <td>Perfect product!</td>\n",
       "      <td>Amazing phone with great cameras and better ba...</td>\n",
       "    </tr>\n",
       "    <tr>\n",
       "      <th>2</th>\n",
       "      <td>5</td>\n",
       "      <td>Great product</td>\n",
       "      <td>Amazing Powerful and Durable Gadget.\\n\\nI’m am...</td>\n",
       "    </tr>\n",
       "    <tr>\n",
       "      <th>3</th>\n",
       "      <td>5</td>\n",
       "      <td>Worth every penny</td>\n",
       "      <td>Previously I was using one plus 3t it was a gr...</td>\n",
       "    </tr>\n",
       "    <tr>\n",
       "      <th>4</th>\n",
       "      <td>4</td>\n",
       "      <td>Good choice</td>\n",
       "      <td>So far it’s been an AMAZING experience coming ...</td>\n",
       "    </tr>\n",
       "    <tr>\n",
       "      <th>...</th>\n",
       "      <td>...</td>\n",
       "      <td>...</td>\n",
       "      <td>...</td>\n",
       "    </tr>\n",
       "    <tr>\n",
       "      <th>95</th>\n",
       "      <td>5</td>\n",
       "      <td>Terrific</td>\n",
       "      <td>Really worth of money. i just love it. It is t...</td>\n",
       "    </tr>\n",
       "    <tr>\n",
       "      <th>96</th>\n",
       "      <td>5</td>\n",
       "      <td>Highly recommended</td>\n",
       "      <td>It's my first time to use iOS phone and I am l...</td>\n",
       "    </tr>\n",
       "    <tr>\n",
       "      <th>97</th>\n",
       "      <td>5</td>\n",
       "      <td>Classy product</td>\n",
       "      <td>Superb Product !!!\\nA big and worthy upgrade f...</td>\n",
       "    </tr>\n",
       "    <tr>\n",
       "      <th>98</th>\n",
       "      <td>5</td>\n",
       "      <td>Wonderful</td>\n",
       "      <td>This is my first ever I phone. Before this I w...</td>\n",
       "    </tr>\n",
       "    <tr>\n",
       "      <th>99</th>\n",
       "      <td>5</td>\n",
       "      <td>Brilliant</td>\n",
       "      <td>I have migrated from OP 7pro... and trust me, ...</td>\n",
       "    </tr>\n",
       "  </tbody>\n",
       "</table>\n",
       "<p>100 rows × 3 columns</p>\n",
       "</div>"
      ],
      "text/plain": [
       "   Rating      Review-Summary  \\\n",
       "0       5           Brilliant   \n",
       "1       5    Perfect product!   \n",
       "2       5       Great product   \n",
       "3       5   Worth every penny   \n",
       "4       4         Good choice   \n",
       "..    ...                 ...   \n",
       "95      5            Terrific   \n",
       "96      5  Highly recommended   \n",
       "97      5      Classy product   \n",
       "98      5           Wonderful   \n",
       "99      5           Brilliant   \n",
       "\n",
       "                                          Full-Review  \n",
       "0   The Best Phone for the Money\\n\\nThe iPhone 11 ...  \n",
       "1   Amazing phone with great cameras and better ba...  \n",
       "2   Amazing Powerful and Durable Gadget.\\n\\nI’m am...  \n",
       "3   Previously I was using one plus 3t it was a gr...  \n",
       "4   So far it’s been an AMAZING experience coming ...  \n",
       "..                                                ...  \n",
       "95  Really worth of money. i just love it. It is t...  \n",
       "96  It's my first time to use iOS phone and I am l...  \n",
       "97  Superb Product !!!\\nA big and worthy upgrade f...  \n",
       "98  This is my first ever I phone. Before this I w...  \n",
       "99  I have migrated from OP 7pro... and trust me, ...  \n",
       "\n",
       "[100 rows x 3 columns]"
      ]
     },
     "execution_count": 101,
     "metadata": {},
     "output_type": "execute_result"
    }
   ],
   "source": [
    "IPHONE"
   ]
  },
  {
   "cell_type": "code",
   "execution_count": 102,
   "metadata": {},
   "outputs": [
    {
     "data": {
      "text/html": [
       "<div>\n",
       "<style scoped>\n",
       "    .dataframe tbody tr th:only-of-type {\n",
       "        vertical-align: middle;\n",
       "    }\n",
       "\n",
       "    .dataframe tbody tr th {\n",
       "        vertical-align: top;\n",
       "    }\n",
       "\n",
       "    .dataframe thead th {\n",
       "        text-align: right;\n",
       "    }\n",
       "</style>\n",
       "<table border=\"1\" class=\"dataframe\">\n",
       "  <thead>\n",
       "    <tr style=\"text-align: right;\">\n",
       "      <th></th>\n",
       "      <th>Rating</th>\n",
       "      <th>Review-Summary</th>\n",
       "      <th>Full-Review</th>\n",
       "    </tr>\n",
       "  </thead>\n",
       "  <tbody>\n",
       "    <tr>\n",
       "      <th>33</th>\n",
       "      <td>4</td>\n",
       "      <td>Nice product</td>\n",
       "      <td>Awesome Phone. Slightly high price but worth. ...</td>\n",
       "    </tr>\n",
       "    <tr>\n",
       "      <th>34</th>\n",
       "      <td>5</td>\n",
       "      <td>Simply awesome</td>\n",
       "      <td>Excellent camera, good performance, no lag. Th...</td>\n",
       "    </tr>\n",
       "    <tr>\n",
       "      <th>35</th>\n",
       "      <td>5</td>\n",
       "      <td>Terrific</td>\n",
       "      <td>Really worth of money. i just love it. It is t...</td>\n",
       "    </tr>\n",
       "    <tr>\n",
       "      <th>36</th>\n",
       "      <td>5</td>\n",
       "      <td>Highly recommended</td>\n",
       "      <td>It's my first time to use iOS phone and I am l...</td>\n",
       "    </tr>\n",
       "    <tr>\n",
       "      <th>37</th>\n",
       "      <td>5</td>\n",
       "      <td>Classy product</td>\n",
       "      <td>Superb Product !!!\\nA big and worthy upgrade f...</td>\n",
       "    </tr>\n",
       "    <tr>\n",
       "      <th>38</th>\n",
       "      <td>5</td>\n",
       "      <td>Wonderful</td>\n",
       "      <td>This is my first ever I phone. Before this I w...</td>\n",
       "    </tr>\n",
       "  </tbody>\n",
       "</table>\n",
       "</div>"
      ],
      "text/plain": [
       "   Rating      Review-Summary  \\\n",
       "33      4        Nice product   \n",
       "34      5      Simply awesome   \n",
       "35      5            Terrific   \n",
       "36      5  Highly recommended   \n",
       "37      5      Classy product   \n",
       "38      5           Wonderful   \n",
       "\n",
       "                                          Full-Review  \n",
       "33  Awesome Phone. Slightly high price but worth. ...  \n",
       "34  Excellent camera, good performance, no lag. Th...  \n",
       "35  Really worth of money. i just love it. It is t...  \n",
       "36  It's my first time to use iOS phone and I am l...  \n",
       "37  Superb Product !!!\\nA big and worthy upgrade f...  \n",
       "38  This is my first ever I phone. Before this I w...  "
      ]
     },
     "execution_count": 102,
     "metadata": {},
     "output_type": "execute_result"
    }
   ],
   "source": [
    "IPHONE[33:39]"
   ]
  },
  {
   "cell_type": "markdown",
   "metadata": {},
   "source": [
    "# Q8: Scrape data for first 100 sneakers you find when you visit flipkart.com and search for “sneakers” in the search field.You have to scrape 4 attributes of each sneaker :1. Brand, 2. Product Description, 3. Price, 4. discount %"
   ]
  },
  {
   "cell_type": "code",
   "execution_count": 103,
   "metadata": {},
   "outputs": [],
   "source": [
    "driver = webdriver.Chrome('chromedriver.exe')\n",
    "url=(\"https://www.flipkart.com/\")\n",
    "driver.get(url)\n",
    "driver.implicitly_wait(10)"
   ]
  },
  {
   "cell_type": "code",
   "execution_count": 104,
   "metadata": {},
   "outputs": [],
   "source": [
    "driver.find_element_by_xpath('//input[@title=\"Search for products, brands and more\"]').send_keys('sneakers')\n",
    "driver.find_element_by_xpath('//button[@type=\"submit\"]').click()\n",
    "time.sleep(3)"
   ]
  },
  {
   "cell_type": "code",
   "execution_count": 105,
   "metadata": {},
   "outputs": [],
   "source": [
    "#creating empty list for saving our data\n",
    "brand_name=[]\n",
    "description=[]\n",
    "price=[]\n",
    "discount=[]"
   ]
  },
  {
   "cell_type": "code",
   "execution_count": 106,
   "metadata": {},
   "outputs": [],
   "source": [
    "#scraping the data\n",
    "i=0\n",
    "while i<3:\n",
    "    \n",
    "    time.sleep(5)\n",
    "    \n",
    "    brand=driver.find_elements_by_xpath('//div[@class=\"_2WkVRV\"]')\n",
    "    for j in brand:\n",
    "        brand_name.append(j.text)\n",
    "        \n",
    "    dscrptn=driver.find_elements_by_xpath('//a[contains(@class,\"IRpwTa\")]')\n",
    "    for k in dscrptn:\n",
    "        description.append(k.text)\n",
    "        \n",
    "    prc=driver.find_elements_by_xpath('//div[@class=\"_30jeq3\"]')\n",
    "    for x in prc:\n",
    "        price.append(x.text)\n",
    "        \n",
    "    dscnt=driver.find_elements_by_xpath('//div[@class=\"_3Ay6Sb\"]')\n",
    "    for z in dscnt:\n",
    "        discount.append(z.text)\n",
    "    \n",
    "    if i==0:\n",
    "        driver.find_element_by_xpath('//a[@class=\"_1LKTO3\"]').click()\n",
    "    elif j==1:\n",
    "        driver.find_element_by_xpath('//nav[@class=\"yFHi8N\"]/a[12]').click()\n",
    "    else:\n",
    "        pass\n",
    "    i=i+1"
   ]
  },
  {
   "cell_type": "code",
   "execution_count": 107,
   "metadata": {},
   "outputs": [],
   "source": [
    "#creating a DataFrame for our data\n",
    "Sneaker=pd.DataFrame({})\n",
    "Sneaker['Brand-Name']=brand_name[:100]\n",
    "Sneaker['Description of product']=description[:100]\n",
    "Sneaker['Amount']=price[:100]\n",
    "Sneaker['Discount on product']=discount[:100]"
   ]
  },
  {
   "cell_type": "code",
   "execution_count": 108,
   "metadata": {},
   "outputs": [
    {
     "data": {
      "text/html": [
       "<div>\n",
       "<style scoped>\n",
       "    .dataframe tbody tr th:only-of-type {\n",
       "        vertical-align: middle;\n",
       "    }\n",
       "\n",
       "    .dataframe tbody tr th {\n",
       "        vertical-align: top;\n",
       "    }\n",
       "\n",
       "    .dataframe thead th {\n",
       "        text-align: right;\n",
       "    }\n",
       "</style>\n",
       "<table border=\"1\" class=\"dataframe\">\n",
       "  <thead>\n",
       "    <tr style=\"text-align: right;\">\n",
       "      <th></th>\n",
       "      <th>Brand-Name</th>\n",
       "      <th>Description of product</th>\n",
       "      <th>Amount</th>\n",
       "      <th>Discount on product</th>\n",
       "    </tr>\n",
       "  </thead>\n",
       "  <tbody>\n",
       "    <tr>\n",
       "      <th>0</th>\n",
       "      <td>World Wear Footwear</td>\n",
       "      <td>Combo Pack of 2 Latest Collection Stylish casu...</td>\n",
       "      <td>₹608</td>\n",
       "      <td>39% off</td>\n",
       "    </tr>\n",
       "    <tr>\n",
       "      <th>1</th>\n",
       "      <td>World Wear Footwear</td>\n",
       "      <td>Sneakers For Men</td>\n",
       "      <td>₹699</td>\n",
       "      <td>71% off</td>\n",
       "    </tr>\n",
       "    <tr>\n",
       "      <th>2</th>\n",
       "      <td>Robbie jones</td>\n",
       "      <td>Casual Sneakers Shoes For Men Sneakers For Men</td>\n",
       "      <td>₹399</td>\n",
       "      <td>60% off</td>\n",
       "    </tr>\n",
       "    <tr>\n",
       "      <th>3</th>\n",
       "      <td>aadi</td>\n",
       "      <td>Sneakers For Men</td>\n",
       "      <td>₹298</td>\n",
       "      <td>70% off</td>\n",
       "    </tr>\n",
       "    <tr>\n",
       "      <th>4</th>\n",
       "      <td>Robbie jones</td>\n",
       "      <td>Sneakers For Men</td>\n",
       "      <td>₹474</td>\n",
       "      <td>52% off</td>\n",
       "    </tr>\n",
       "    <tr>\n",
       "      <th>...</th>\n",
       "      <td>...</td>\n",
       "      <td>...</td>\n",
       "      <td>...</td>\n",
       "      <td>...</td>\n",
       "    </tr>\n",
       "    <tr>\n",
       "      <th>95</th>\n",
       "      <td>Kraasa</td>\n",
       "      <td>Series 7 Sneakers For Men</td>\n",
       "      <td>₹499</td>\n",
       "      <td>52% off</td>\n",
       "    </tr>\n",
       "    <tr>\n",
       "      <th>96</th>\n",
       "      <td>GUSTO</td>\n",
       "      <td>Sneakers For Men</td>\n",
       "      <td>₹699</td>\n",
       "      <td>55% off</td>\n",
       "    </tr>\n",
       "    <tr>\n",
       "      <th>97</th>\n",
       "      <td>bluemaker</td>\n",
       "      <td>casual for men Sneakers For Men</td>\n",
       "      <td>₹474</td>\n",
       "      <td>77% off</td>\n",
       "    </tr>\n",
       "    <tr>\n",
       "      <th>98</th>\n",
       "      <td>Baogi</td>\n",
       "      <td>Sneakers for man Sneakers For Men</td>\n",
       "      <td>₹449</td>\n",
       "      <td>62% off</td>\n",
       "    </tr>\n",
       "    <tr>\n",
       "      <th>99</th>\n",
       "      <td>World Wear Footwear</td>\n",
       "      <td>Combo Pack of 4 Latest Collection Stylish Casu...</td>\n",
       "      <td>₹499</td>\n",
       "      <td>62% off</td>\n",
       "    </tr>\n",
       "  </tbody>\n",
       "</table>\n",
       "<p>100 rows × 4 columns</p>\n",
       "</div>"
      ],
      "text/plain": [
       "             Brand-Name                             Description of product  \\\n",
       "0   World Wear Footwear  Combo Pack of 2 Latest Collection Stylish casu...   \n",
       "1   World Wear Footwear                                   Sneakers For Men   \n",
       "2          Robbie jones     Casual Sneakers Shoes For Men Sneakers For Men   \n",
       "3                  aadi                                   Sneakers For Men   \n",
       "4          Robbie jones                                   Sneakers For Men   \n",
       "..                  ...                                                ...   \n",
       "95               Kraasa                          Series 7 Sneakers For Men   \n",
       "96                GUSTO                                   Sneakers For Men   \n",
       "97            bluemaker                    casual for men Sneakers For Men   \n",
       "98                Baogi                  Sneakers for man Sneakers For Men   \n",
       "99  World Wear Footwear  Combo Pack of 4 Latest Collection Stylish Casu...   \n",
       "\n",
       "   Amount Discount on product  \n",
       "0    ₹608             39% off  \n",
       "1    ₹699             71% off  \n",
       "2    ₹399             60% off  \n",
       "3    ₹298             70% off  \n",
       "4    ₹474             52% off  \n",
       "..    ...                 ...  \n",
       "95   ₹499             52% off  \n",
       "96   ₹699             55% off  \n",
       "97   ₹474             77% off  \n",
       "98   ₹449             62% off  \n",
       "99   ₹499             62% off  \n",
       "\n",
       "[100 rows x 4 columns]"
      ]
     },
     "execution_count": 108,
     "metadata": {},
     "output_type": "execute_result"
    }
   ],
   "source": [
    "Sneaker"
   ]
  },
  {
   "cell_type": "code",
   "execution_count": 109,
   "metadata": {},
   "outputs": [
    {
     "data": {
      "text/html": [
       "<div>\n",
       "<style scoped>\n",
       "    .dataframe tbody tr th:only-of-type {\n",
       "        vertical-align: middle;\n",
       "    }\n",
       "\n",
       "    .dataframe tbody tr th {\n",
       "        vertical-align: top;\n",
       "    }\n",
       "\n",
       "    .dataframe thead th {\n",
       "        text-align: right;\n",
       "    }\n",
       "</style>\n",
       "<table border=\"1\" class=\"dataframe\">\n",
       "  <thead>\n",
       "    <tr style=\"text-align: right;\">\n",
       "      <th></th>\n",
       "      <th>Brand-Name</th>\n",
       "      <th>Description of product</th>\n",
       "      <th>Amount</th>\n",
       "      <th>Discount on product</th>\n",
       "    </tr>\n",
       "  </thead>\n",
       "  <tbody>\n",
       "    <tr>\n",
       "      <th>78</th>\n",
       "      <td>TR</td>\n",
       "      <td>Sneakers For Men</td>\n",
       "      <td>₹599</td>\n",
       "      <td>46% off</td>\n",
       "    </tr>\n",
       "    <tr>\n",
       "      <th>79</th>\n",
       "      <td>Numenzo</td>\n",
       "      <td>Casual Sneaker Sneakers For Men</td>\n",
       "      <td>₹539</td>\n",
       "      <td>60% off</td>\n",
       "    </tr>\n",
       "    <tr>\n",
       "      <th>80</th>\n",
       "      <td>T-ROCK</td>\n",
       "      <td>Synthetic Leather Casual Partywear Wedding Sne...</td>\n",
       "      <td>₹398</td>\n",
       "      <td>55% off</td>\n",
       "    </tr>\n",
       "    <tr>\n",
       "      <th>81</th>\n",
       "      <td>believe</td>\n",
       "      <td>Sneakers for men(black_6) Sneakers For Men</td>\n",
       "      <td>₹446</td>\n",
       "      <td>27% off</td>\n",
       "    </tr>\n",
       "    <tr>\n",
       "      <th>82</th>\n",
       "      <td>SPARX</td>\n",
       "      <td>SM-482 Sneakers For Men</td>\n",
       "      <td>₹975</td>\n",
       "      <td>39% off</td>\n",
       "    </tr>\n",
       "    <tr>\n",
       "      <th>83</th>\n",
       "      <td>World Wear Footwear</td>\n",
       "      <td>Combo Pack of 2 Latest Collection Stylish casu...</td>\n",
       "      <td>₹608</td>\n",
       "      <td>50% off</td>\n",
       "    </tr>\n",
       "  </tbody>\n",
       "</table>\n",
       "</div>"
      ],
      "text/plain": [
       "             Brand-Name                             Description of product  \\\n",
       "78                   TR                                   Sneakers For Men   \n",
       "79              Numenzo                    Casual Sneaker Sneakers For Men   \n",
       "80               T-ROCK  Synthetic Leather Casual Partywear Wedding Sne...   \n",
       "81              believe         Sneakers for men(black_6) Sneakers For Men   \n",
       "82                SPARX                            SM-482 Sneakers For Men   \n",
       "83  World Wear Footwear  Combo Pack of 2 Latest Collection Stylish casu...   \n",
       "\n",
       "   Amount Discount on product  \n",
       "78   ₹599             46% off  \n",
       "79   ₹539             60% off  \n",
       "80   ₹398             55% off  \n",
       "81   ₹446             27% off  \n",
       "82   ₹975             39% off  \n",
       "83   ₹608             50% off  "
      ]
     },
     "execution_count": 109,
     "metadata": {},
     "output_type": "execute_result"
    }
   ],
   "source": [
    "Sneaker[78:84]"
   ]
  },
  {
   "cell_type": "markdown",
   "metadata": {},
   "source": [
    "# Go to the link - https://www.myntra.com/shoes. Set Price filter to “Rs. 6649 to Rs. 13099” , Color filter to “Black”,"
   ]
  },
  {
   "cell_type": "code",
   "execution_count": 110,
   "metadata": {},
   "outputs": [],
   "source": [
    "driver = webdriver.Chrome(r'chromedriver.exe')\n",
    "url=(\"https://www.myntra.com/shoes\")\n",
    "driver.get(url)\n",
    "time.sleep(5)"
   ]
  },
  {
   "cell_type": "code",
   "execution_count": 111,
   "metadata": {},
   "outputs": [],
   "source": [
    "#applying filter on the  price\n",
    "driver.find_element_by_xpath('//ul[@class=\"price-list\"]/li[2]').click()\n",
    "time.sleep(3)"
   ]
  },
  {
   "cell_type": "code",
   "execution_count": 112,
   "metadata": {},
   "outputs": [],
   "source": [
    "#applying filter on the  colour\n",
    "driver.find_element_by_xpath('//span[@data-colorhex=\"black\"]').click()\n",
    "time.sleep(3)"
   ]
  },
  {
   "cell_type": "code",
   "execution_count": 113,
   "metadata": {},
   "outputs": [],
   "source": [
    "#creating empty list for storing the data\n",
    "brand=[]\n",
    "description=[]\n",
    "price=[]"
   ]
  },
  {
   "cell_type": "code",
   "execution_count": 114,
   "metadata": {},
   "outputs": [],
   "source": [
    "#scraping our data\n",
    "    \n",
    "i=0\n",
    "while i<2:\n",
    "    time.sleep(5)\n",
    "        \n",
    "    name=driver.find_elements_by_xpath('//h3[@class=\"product-brand\"]')\n",
    "    for j in name:\n",
    "            brand.append(j.text)\n",
    "        \n",
    "    dscrptn=driver.find_elements_by_xpath('//h4[@class=\"product-product\"]')\n",
    "    for x in dscrptn:\n",
    "        description.append(x.text)\n",
    "        \n",
    "    prc=driver.find_elements_by_xpath('//div[@class=\"product-price\"]')\n",
    "    for z in prc:\n",
    "        price.append(z.text)\n",
    "        \n",
    "    driver.find_element_by_xpath('//a[@rel=\"next\"]').click()    \n",
    "    time.sleep(5)\n",
    "    i=i+1"
   ]
  },
  {
   "cell_type": "code",
   "execution_count": 115,
   "metadata": {},
   "outputs": [],
   "source": [
    "#creating a dataframe for our data\n",
    "Shoes=pd.DataFrame({})\n",
    "Shoes['Brand-Name']=brand[0:100]\n",
    "Shoes['Shoes-Description']=description[0:100]\n",
    "Shoes['Price']=price[0:100]"
   ]
  },
  {
   "cell_type": "code",
   "execution_count": 116,
   "metadata": {},
   "outputs": [
    {
     "data": {
      "text/html": [
       "<div>\n",
       "<style scoped>\n",
       "    .dataframe tbody tr th:only-of-type {\n",
       "        vertical-align: middle;\n",
       "    }\n",
       "\n",
       "    .dataframe tbody tr th {\n",
       "        vertical-align: top;\n",
       "    }\n",
       "\n",
       "    .dataframe thead th {\n",
       "        text-align: right;\n",
       "    }\n",
       "</style>\n",
       "<table border=\"1\" class=\"dataframe\">\n",
       "  <thead>\n",
       "    <tr style=\"text-align: right;\">\n",
       "      <th></th>\n",
       "      <th>Brand-Name</th>\n",
       "      <th>Shoes-Description</th>\n",
       "      <th>Price</th>\n",
       "    </tr>\n",
       "  </thead>\n",
       "  <tbody>\n",
       "    <tr>\n",
       "      <th>0</th>\n",
       "      <td>PUMA Motorsport</td>\n",
       "      <td>Unisex Mercedes Running Shoes</td>\n",
       "      <td>Rs. 7999</td>\n",
       "    </tr>\n",
       "    <tr>\n",
       "      <th>1</th>\n",
       "      <td>Nike</td>\n",
       "      <td>Women AIR ZOOM Running Shoes</td>\n",
       "      <td>Rs. 6996Rs. 9995( 30 % OFF)</td>\n",
       "    </tr>\n",
       "    <tr>\n",
       "      <th>2</th>\n",
       "      <td>Nike</td>\n",
       "      <td>Men AIR ZOOM Running Shoes</td>\n",
       "      <td>Rs. 7206Rs. 10295(30% OFF)</td>\n",
       "    </tr>\n",
       "    <tr>\n",
       "      <th>3</th>\n",
       "      <td>Nike</td>\n",
       "      <td>AIR ZOOM PEGASUS Running Shoes</td>\n",
       "      <td>Rs. 11495</td>\n",
       "    </tr>\n",
       "    <tr>\n",
       "      <th>4</th>\n",
       "      <td>UNDER ARMOUR</td>\n",
       "      <td>Men Liquify Running Shoes</td>\n",
       "      <td>Rs. 8799Rs. 10999(20% OFF)</td>\n",
       "    </tr>\n",
       "    <tr>\n",
       "      <th>...</th>\n",
       "      <td>...</td>\n",
       "      <td>...</td>\n",
       "      <td>...</td>\n",
       "    </tr>\n",
       "    <tr>\n",
       "      <th>95</th>\n",
       "      <td>Puma</td>\n",
       "      <td>Men UltraRide Running Shoes</td>\n",
       "      <td>Rs. 7199Rs. 8999(20% OFF)</td>\n",
       "    </tr>\n",
       "    <tr>\n",
       "      <th>96</th>\n",
       "      <td>Nike</td>\n",
       "      <td>Men REACT MILER 2 Running</td>\n",
       "      <td>Rs. 9770Rs. 11495(15% OFF)</td>\n",
       "    </tr>\n",
       "    <tr>\n",
       "      <th>97</th>\n",
       "      <td>ADIDAS</td>\n",
       "      <td>Men Supernova Running Shoes</td>\n",
       "      <td>Rs. 7999Rs. 9999(20% OFF)</td>\n",
       "    </tr>\n",
       "    <tr>\n",
       "      <th>98</th>\n",
       "      <td>ALDO</td>\n",
       "      <td>Women Black Sneakers</td>\n",
       "      <td>Rs. 8999</td>\n",
       "    </tr>\n",
       "    <tr>\n",
       "      <th>99</th>\n",
       "      <td>Bugatti</td>\n",
       "      <td>Women Black Sneakers</td>\n",
       "      <td>Rs. 7999</td>\n",
       "    </tr>\n",
       "  </tbody>\n",
       "</table>\n",
       "<p>100 rows × 3 columns</p>\n",
       "</div>"
      ],
      "text/plain": [
       "         Brand-Name               Shoes-Description  \\\n",
       "0   PUMA Motorsport   Unisex Mercedes Running Shoes   \n",
       "1              Nike    Women AIR ZOOM Running Shoes   \n",
       "2              Nike      Men AIR ZOOM Running Shoes   \n",
       "3              Nike  AIR ZOOM PEGASUS Running Shoes   \n",
       "4      UNDER ARMOUR       Men Liquify Running Shoes   \n",
       "..              ...                             ...   \n",
       "95             Puma     Men UltraRide Running Shoes   \n",
       "96             Nike       Men REACT MILER 2 Running   \n",
       "97           ADIDAS     Men Supernova Running Shoes   \n",
       "98             ALDO            Women Black Sneakers   \n",
       "99          Bugatti            Women Black Sneakers   \n",
       "\n",
       "                          Price  \n",
       "0                      Rs. 7999  \n",
       "1   Rs. 6996Rs. 9995( 30 % OFF)  \n",
       "2    Rs. 7206Rs. 10295(30% OFF)  \n",
       "3                     Rs. 11495  \n",
       "4    Rs. 8799Rs. 10999(20% OFF)  \n",
       "..                          ...  \n",
       "95    Rs. 7199Rs. 8999(20% OFF)  \n",
       "96   Rs. 9770Rs. 11495(15% OFF)  \n",
       "97    Rs. 7999Rs. 9999(20% OFF)  \n",
       "98                     Rs. 8999  \n",
       "99                     Rs. 7999  \n",
       "\n",
       "[100 rows x 3 columns]"
      ]
     },
     "execution_count": 116,
     "metadata": {},
     "output_type": "execute_result"
    }
   ],
   "source": [
    "Shoes"
   ]
  },
  {
   "cell_type": "code",
   "execution_count": 121,
   "metadata": {},
   "outputs": [
    {
     "data": {
      "text/html": [
       "<div>\n",
       "<style scoped>\n",
       "    .dataframe tbody tr th:only-of-type {\n",
       "        vertical-align: middle;\n",
       "    }\n",
       "\n",
       "    .dataframe tbody tr th {\n",
       "        vertical-align: top;\n",
       "    }\n",
       "\n",
       "    .dataframe thead th {\n",
       "        text-align: right;\n",
       "    }\n",
       "</style>\n",
       "<table border=\"1\" class=\"dataframe\">\n",
       "  <thead>\n",
       "    <tr style=\"text-align: right;\">\n",
       "      <th></th>\n",
       "      <th>Brand-Name</th>\n",
       "      <th>Shoes-Description</th>\n",
       "      <th>Price</th>\n",
       "    </tr>\n",
       "  </thead>\n",
       "  <tbody>\n",
       "    <tr>\n",
       "      <th>29</th>\n",
       "      <td>Hush Puppies</td>\n",
       "      <td>Men Solid Leather Formal Slip-Ons</td>\n",
       "      <td>Rs. 8999</td>\n",
       "    </tr>\n",
       "    <tr>\n",
       "      <th>30</th>\n",
       "      <td>Puma</td>\n",
       "      <td>Unisex RS-X Pop Sneakers</td>\n",
       "      <td>Rs. 7999Rs. 9999(20% OFF)</td>\n",
       "    </tr>\n",
       "    <tr>\n",
       "      <th>31</th>\n",
       "      <td>Puma</td>\n",
       "      <td>Women Eternity Nitro Running</td>\n",
       "      <td>Rs. 12999</td>\n",
       "    </tr>\n",
       "    <tr>\n",
       "      <th>32</th>\n",
       "      <td>Onitsuka Tiger</td>\n",
       "      <td>Unisex Big Logo Trainer</td>\n",
       "      <td>Rs. 10999</td>\n",
       "    </tr>\n",
       "    <tr>\n",
       "      <th>33</th>\n",
       "      <td>Cole Haan</td>\n",
       "      <td>Leather Sneakers</td>\n",
       "      <td>Rs. 10999</td>\n",
       "    </tr>\n",
       "    <tr>\n",
       "      <th>34</th>\n",
       "      <td>Onitsuka Tiger</td>\n",
       "      <td>Unisex Mexico 66 Paraty Sneakers</td>\n",
       "      <td>Rs. 6999</td>\n",
       "    </tr>\n",
       "  </tbody>\n",
       "</table>\n",
       "</div>"
      ],
      "text/plain": [
       "        Brand-Name                  Shoes-Description  \\\n",
       "29    Hush Puppies  Men Solid Leather Formal Slip-Ons   \n",
       "30            Puma           Unisex RS-X Pop Sneakers   \n",
       "31            Puma       Women Eternity Nitro Running   \n",
       "32  Onitsuka Tiger            Unisex Big Logo Trainer   \n",
       "33       Cole Haan                   Leather Sneakers   \n",
       "34  Onitsuka Tiger   Unisex Mexico 66 Paraty Sneakers   \n",
       "\n",
       "                        Price  \n",
       "29                   Rs. 8999  \n",
       "30  Rs. 7999Rs. 9999(20% OFF)  \n",
       "31                  Rs. 12999  \n",
       "32                  Rs. 10999  \n",
       "33                  Rs. 10999  \n",
       "34                   Rs. 6999  "
      ]
     },
     "execution_count": 121,
     "metadata": {},
     "output_type": "execute_result"
    }
   ],
   "source": [
    "Shoes[29:35]"
   ]
  },
  {
   "cell_type": "markdown",
   "metadata": {},
   "source": [
    "# Q10: Go to webpage https://www.amazon.in/.Enter “Laptop” in the search field and then click the search icon. Then set CPU Type filter to “Intel Core i7” and “Intel Core i9” as mentioned"
   ]
  },
  {
   "cell_type": "code",
   "execution_count": 135,
   "metadata": {},
   "outputs": [],
   "source": [
    "driver = webdriver.Chrome('chromedriver.exe')\n",
    "url=(\"https://www.amazon.in/\")\n",
    "driver.get(url)\n",
    "time.sleep(5)"
   ]
  },
  {
   "cell_type": "code",
   "execution_count": 136,
   "metadata": {},
   "outputs": [],
   "source": [
    "#searching laptop on the browser and then clicking search button\n",
    "driver.find_element_by_xpath('//input[@id=\"twotabsearchtextbox\"]').send_keys('Laptop')\n",
    "driver.find_element_by_xpath('//input[@type=\"submit\"]').click()"
   ]
  },
  {
   "cell_type": "code",
   "execution_count": 137,
   "metadata": {},
   "outputs": [],
   "source": [
    "#applying filter for i7- \n",
    "driver.find_element_by_xpath('//*[@id=\"p_n_feature_thirteen_browse-bin/12598163031\"]/span/a').click()\n",
    "time.sleep(3)"
   ]
  },
  {
   "cell_type": "markdown",
   "metadata": {},
   "source": [
    "Here, under CPU - intel core i9 is not showing, I tried changing keys also like \"Laptops\", still not showing. \n",
    "That's why i5 i have mentioned in this assignment"
   ]
  },
  {
   "cell_type": "code",
   "execution_count": 138,
   "metadata": {},
   "outputs": [],
   "source": [
    "#applying filter for i5-  \n",
    "driver.find_element_by_xpath('//*[@id=\"p_n_feature_thirteen_browse-bin/12598162031\"]/span/a').click()\n",
    "time.sleep(3)"
   ]
  },
  {
   "cell_type": "code",
   "execution_count": 139,
   "metadata": {},
   "outputs": [],
   "source": [
    "#creating empty list for saving data\n",
    "title=[]\n",
    "price=[]\n",
    "rating=[]"
   ]
  },
  {
   "cell_type": "code",
   "execution_count": 140,
   "metadata": {},
   "outputs": [],
   "source": [
    "#scraping the data\n",
    "\n",
    "name=driver.find_elements_by_xpath('//span[@class=\"a-size-medium a-color-base a-text-normal\"]')\n",
    "for i in name:\n",
    "    title.append(i.text)\n",
    "    \n",
    "amount=driver.find_elements_by_xpath('//span[@class=\"a-price-whole\"]')\n",
    "for j in amount:\n",
    "    price.append(i.text)\n",
    "    \n",
    "rate=driver.find_elements_by_xpath('//div[@class=\"a-row a-size-small\"]/span[1]')   \n",
    "for i in rate:\n",
    "    rating.append(i.get_attribute('aria-label'))"
   ]
  },
  {
   "cell_type": "code",
   "execution_count": 141,
   "metadata": {},
   "outputs": [],
   "source": [
    "#creating a dataframe for our data-\n",
    "Laptop=pd.DataFrame({})\n",
    "Laptop['Title of the Laptop']=title[:10]\n",
    "Laptop['Price of Laptop']=price[:10]\n",
    "Laptop['Rating given to product']=rating[:10]"
   ]
  },
  {
   "cell_type": "code",
   "execution_count": 142,
   "metadata": {},
   "outputs": [
    {
     "data": {
      "text/html": [
       "<div>\n",
       "<style scoped>\n",
       "    .dataframe tbody tr th:only-of-type {\n",
       "        vertical-align: middle;\n",
       "    }\n",
       "\n",
       "    .dataframe tbody tr th {\n",
       "        vertical-align: top;\n",
       "    }\n",
       "\n",
       "    .dataframe thead th {\n",
       "        text-align: right;\n",
       "    }\n",
       "</style>\n",
       "<table border=\"1\" class=\"dataframe\">\n",
       "  <thead>\n",
       "    <tr style=\"text-align: right;\">\n",
       "      <th></th>\n",
       "      <th>Title of the Laptop</th>\n",
       "      <th>Price of Laptop</th>\n",
       "      <th>Rating given to product</th>\n",
       "    </tr>\n",
       "  </thead>\n",
       "  <tbody>\n",
       "    <tr>\n",
       "      <th>0</th>\n",
       "      <td>Vaio SE14 NP14V3IN033P 14-inch( Intel Core i5-...</td>\n",
       "      <td>ASUS VivoBook Ultra 15 AMD Ryzen 5 4500U 15.6\"...</td>\n",
       "      <td>3.6 out of 5 stars</td>\n",
       "    </tr>\n",
       "    <tr>\n",
       "      <th>1</th>\n",
       "      <td>Vaio Z 14 inch/35.56 cm(Intel Core i7-11375H/3...</td>\n",
       "      <td>ASUS VivoBook Ultra 15 AMD Ryzen 5 4500U 15.6\"...</td>\n",
       "      <td>4.0 out of 5 stars</td>\n",
       "    </tr>\n",
       "    <tr>\n",
       "      <th>2</th>\n",
       "      <td>ASUS VivoBook 14 (2020) Intel Quad Core Pentiu...</td>\n",
       "      <td>ASUS VivoBook Ultra 15 AMD Ryzen 5 4500U 15.6\"...</td>\n",
       "      <td>3.2 out of 5 stars</td>\n",
       "    </tr>\n",
       "    <tr>\n",
       "      <th>3</th>\n",
       "      <td>Lenovo IdeaPad Slim 3 Intel Celeron N4020 15.6...</td>\n",
       "      <td>ASUS VivoBook Ultra 15 AMD Ryzen 5 4500U 15.6\"...</td>\n",
       "      <td>4.4 out of 5 stars</td>\n",
       "    </tr>\n",
       "    <tr>\n",
       "      <th>4</th>\n",
       "      <td>Lenovo Ideapad S145 AMD Ryzen 3 3200U 15.6 inc...</td>\n",
       "      <td>ASUS VivoBook Ultra 15 AMD Ryzen 5 4500U 15.6\"...</td>\n",
       "      <td>4.8 out of 5 stars</td>\n",
       "    </tr>\n",
       "    <tr>\n",
       "      <th>5</th>\n",
       "      <td>ASUS ROG Zephyrus G14, 14\" (35.6cms) FHD 120Hz...</td>\n",
       "      <td>ASUS VivoBook Ultra 15 AMD Ryzen 5 4500U 15.6\"...</td>\n",
       "      <td>4.0 out of 5 stars</td>\n",
       "    </tr>\n",
       "    <tr>\n",
       "      <th>6</th>\n",
       "      <td>AVITA Essential NE14A2INC433-CR 14\" (35.56cms)...</td>\n",
       "      <td>ASUS VivoBook Ultra 15 AMD Ryzen 5 4500U 15.6\"...</td>\n",
       "      <td>4.4 out of 5 stars</td>\n",
       "    </tr>\n",
       "    <tr>\n",
       "      <th>7</th>\n",
       "      <td>HP 15 AMD Athlon 15.6\" (39.62cms) HD Laptop (S...</td>\n",
       "      <td>ASUS VivoBook Ultra 15 AMD Ryzen 5 4500U 15.6\"...</td>\n",
       "      <td>4.4 out of 5 stars</td>\n",
       "    </tr>\n",
       "    <tr>\n",
       "      <th>8</th>\n",
       "      <td>Lenovo Ideapad Slim 3 AMD Athlon Silver 3050U ...</td>\n",
       "      <td>ASUS VivoBook Ultra 15 AMD Ryzen 5 4500U 15.6\"...</td>\n",
       "      <td>3.9 out of 5 stars</td>\n",
       "    </tr>\n",
       "    <tr>\n",
       "      <th>9</th>\n",
       "      <td>LifeDigital ZED AIR CX3 Laptop, 15.6\" (39.62 c...</td>\n",
       "      <td>ASUS VivoBook Ultra 15 AMD Ryzen 5 4500U 15.6\"...</td>\n",
       "      <td>3.7 out of 5 stars</td>\n",
       "    </tr>\n",
       "  </tbody>\n",
       "</table>\n",
       "</div>"
      ],
      "text/plain": [
       "                                 Title of the Laptop  \\\n",
       "0  Vaio SE14 NP14V3IN033P 14-inch( Intel Core i5-...   \n",
       "1  Vaio Z 14 inch/35.56 cm(Intel Core i7-11375H/3...   \n",
       "2  ASUS VivoBook 14 (2020) Intel Quad Core Pentiu...   \n",
       "3  Lenovo IdeaPad Slim 3 Intel Celeron N4020 15.6...   \n",
       "4  Lenovo Ideapad S145 AMD Ryzen 3 3200U 15.6 inc...   \n",
       "5  ASUS ROG Zephyrus G14, 14\" (35.6cms) FHD 120Hz...   \n",
       "6  AVITA Essential NE14A2INC433-CR 14\" (35.56cms)...   \n",
       "7  HP 15 AMD Athlon 15.6\" (39.62cms) HD Laptop (S...   \n",
       "8  Lenovo Ideapad Slim 3 AMD Athlon Silver 3050U ...   \n",
       "9  LifeDigital ZED AIR CX3 Laptop, 15.6\" (39.62 c...   \n",
       "\n",
       "                                     Price of Laptop Rating given to product  \n",
       "0  ASUS VivoBook Ultra 15 AMD Ryzen 5 4500U 15.6\"...      3.6 out of 5 stars  \n",
       "1  ASUS VivoBook Ultra 15 AMD Ryzen 5 4500U 15.6\"...      4.0 out of 5 stars  \n",
       "2  ASUS VivoBook Ultra 15 AMD Ryzen 5 4500U 15.6\"...      3.2 out of 5 stars  \n",
       "3  ASUS VivoBook Ultra 15 AMD Ryzen 5 4500U 15.6\"...      4.4 out of 5 stars  \n",
       "4  ASUS VivoBook Ultra 15 AMD Ryzen 5 4500U 15.6\"...      4.8 out of 5 stars  \n",
       "5  ASUS VivoBook Ultra 15 AMD Ryzen 5 4500U 15.6\"...      4.0 out of 5 stars  \n",
       "6  ASUS VivoBook Ultra 15 AMD Ryzen 5 4500U 15.6\"...      4.4 out of 5 stars  \n",
       "7  ASUS VivoBook Ultra 15 AMD Ryzen 5 4500U 15.6\"...      4.4 out of 5 stars  \n",
       "8  ASUS VivoBook Ultra 15 AMD Ryzen 5 4500U 15.6\"...      3.9 out of 5 stars  \n",
       "9  ASUS VivoBook Ultra 15 AMD Ryzen 5 4500U 15.6\"...      3.7 out of 5 stars  "
      ]
     },
     "execution_count": 142,
     "metadata": {},
     "output_type": "execute_result"
    }
   ],
   "source": [
    "Laptop"
   ]
  },
  {
   "cell_type": "code",
   "execution_count": null,
   "metadata": {},
   "outputs": [],
   "source": []
  }
 ],
 "metadata": {
  "kernelspec": {
   "display_name": "Python 3",
   "language": "python",
   "name": "python3"
  },
  "language_info": {
   "codemirror_mode": {
    "name": "ipython",
    "version": 3
   },
   "file_extension": ".py",
   "mimetype": "text/x-python",
   "name": "python",
   "nbconvert_exporter": "python",
   "pygments_lexer": "ipython3",
   "version": "3.8.3"
  }
 },
 "nbformat": 4,
 "nbformat_minor": 4
}
